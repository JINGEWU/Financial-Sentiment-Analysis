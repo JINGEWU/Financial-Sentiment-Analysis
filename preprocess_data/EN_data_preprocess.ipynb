{
  "nbformat": 4,
  "nbformat_minor": 0,
  "metadata": {
    "colab": {
      "name": "EN_data_preprocess.ipynb",
      "provenance": [],
      "collapsed_sections": [],
      "toc_visible": true,
      "machine_shape": "hm"
    },
    "kernelspec": {
      "name": "python3",
      "display_name": "Python 3"
    },
    "language_info": {
      "name": "python"
    },
    "accelerator": "GPU"
  },
  "cells": [
    {
      "cell_type": "code",
      "metadata": {
        "colab": {
          "base_uri": "https://localhost:8080/"
        },
        "id": "Ctnj1CzX-YRf",
        "outputId": "c9bfd288-7342-4d3a-f704-b4c7813de34d"
      },
      "source": [
        "import torch\n",
        "\n",
        "# If there's a GPU available...\n",
        "if torch.cuda.is_available():    \n",
        "\n",
        "    # Tell PyTorch to use the GPU.    \n",
        "    device = torch.device(\"cuda\")\n",
        "\n",
        "    print('There are %d GPU(s) available.' % torch.cuda.device_count())\n",
        "\n",
        "    print('We will use the GPU:', torch.cuda.get_device_name(0))\n",
        "    !nvidia-smi\n",
        "\n",
        "# If not...\n",
        "else:\n",
        "    print('No GPU available, using the CPU instead.')\n",
        "    device = torch.device(\"cpu\")"
      ],
      "execution_count": 1,
      "outputs": [
        {
          "output_type": "stream",
          "text": [
            "There are 1 GPU(s) available.\n",
            "We will use the GPU: Tesla P100-PCIE-16GB\n",
            "Wed Aug  4 13:04:54 2021       \n",
            "+-----------------------------------------------------------------------------+\n",
            "| NVIDIA-SMI 470.42.01    Driver Version: 460.32.03    CUDA Version: 11.2     |\n",
            "|-------------------------------+----------------------+----------------------+\n",
            "| GPU  Name        Persistence-M| Bus-Id        Disp.A | Volatile Uncorr. ECC |\n",
            "| Fan  Temp  Perf  Pwr:Usage/Cap|         Memory-Usage | GPU-Util  Compute M. |\n",
            "|                               |                      |               MIG M. |\n",
            "|===============================+======================+======================|\n",
            "|   0  Tesla P100-PCIE...  Off  | 00000000:00:04.0 Off |                    0 |\n",
            "| N/A   39C    P0    26W / 250W |      2MiB / 16280MiB |      0%      Default |\n",
            "|                               |                      |                  N/A |\n",
            "+-------------------------------+----------------------+----------------------+\n",
            "                                                                               \n",
            "+-----------------------------------------------------------------------------+\n",
            "| Processes:                                                                  |\n",
            "|  GPU   GI   CI        PID   Type   Process name                  GPU Memory |\n",
            "|        ID   ID                                                   Usage      |\n",
            "|=============================================================================|\n",
            "|  No running processes found                                                 |\n",
            "+-----------------------------------------------------------------------------+\n"
          ],
          "name": "stdout"
        }
      ]
    },
    {
      "cell_type": "code",
      "metadata": {
        "id": "HJPmVvNM_ugS"
      },
      "source": [
        "# !pip install transformers==4.2.1\n",
        "# !pip install optuna==2.3.0"
      ],
      "execution_count": null,
      "outputs": []
    },
    {
      "cell_type": "code",
      "metadata": {
        "id": "QI58Kw1W_xCq"
      },
      "source": [
        "# !mkdir data\n",
        "# !mkdir train"
      ],
      "execution_count": null,
      "outputs": []
    },
    {
      "cell_type": "code",
      "metadata": {
        "id": "HEOsJpfeBR2U"
      },
      "source": [
        "import pandas as pd\n",
        "import numpy as np"
      ],
      "execution_count": 2,
      "outputs": []
    },
    {
      "cell_type": "code",
      "metadata": {
        "colab": {
          "base_uri": "https://localhost:8080/"
        },
        "id": "D9ZmWrpcicdm",
        "outputId": "805dbb2a-549e-4d36-8596-354a8011eb8d"
      },
      "source": [
        "!pip install yfinance"
      ],
      "execution_count": 3,
      "outputs": [
        {
          "output_type": "stream",
          "text": [
            "Collecting yfinance\n",
            "  Downloading yfinance-0.1.63.tar.gz (26 kB)\n",
            "Requirement already satisfied: pandas>=0.24 in /usr/local/lib/python3.7/dist-packages (from yfinance) (1.1.5)\n",
            "Requirement already satisfied: numpy>=1.15 in /usr/local/lib/python3.7/dist-packages (from yfinance) (1.19.5)\n",
            "Requirement already satisfied: requests>=2.20 in /usr/local/lib/python3.7/dist-packages (from yfinance) (2.23.0)\n",
            "Requirement already satisfied: multitasking>=0.0.7 in /usr/local/lib/python3.7/dist-packages (from yfinance) (0.0.9)\n",
            "Collecting lxml>=4.5.1\n",
            "  Downloading lxml-4.6.3-cp37-cp37m-manylinux2014_x86_64.whl (6.3 MB)\n",
            "\u001b[K     |████████████████████████████████| 6.3 MB 18.0 MB/s \n",
            "\u001b[?25hRequirement already satisfied: python-dateutil>=2.7.3 in /usr/local/lib/python3.7/dist-packages (from pandas>=0.24->yfinance) (2.8.1)\n",
            "Requirement already satisfied: pytz>=2017.2 in /usr/local/lib/python3.7/dist-packages (from pandas>=0.24->yfinance) (2018.9)\n",
            "Requirement already satisfied: six>=1.5 in /usr/local/lib/python3.7/dist-packages (from python-dateutil>=2.7.3->pandas>=0.24->yfinance) (1.15.0)\n",
            "Requirement already satisfied: idna<3,>=2.5 in /usr/local/lib/python3.7/dist-packages (from requests>=2.20->yfinance) (2.10)\n",
            "Requirement already satisfied: urllib3!=1.25.0,!=1.25.1,<1.26,>=1.21.1 in /usr/local/lib/python3.7/dist-packages (from requests>=2.20->yfinance) (1.24.3)\n",
            "Requirement already satisfied: certifi>=2017.4.17 in /usr/local/lib/python3.7/dist-packages (from requests>=2.20->yfinance) (2021.5.30)\n",
            "Requirement already satisfied: chardet<4,>=3.0.2 in /usr/local/lib/python3.7/dist-packages (from requests>=2.20->yfinance) (3.0.4)\n",
            "Building wheels for collected packages: yfinance\n",
            "  Building wheel for yfinance (setup.py) ... \u001b[?25l\u001b[?25hdone\n",
            "  Created wheel for yfinance: filename=yfinance-0.1.63-py2.py3-none-any.whl size=23919 sha256=c2b89d60d2814a3959de8fcb65494f6c3457de5f618003446a0c189d7596f0ca\n",
            "  Stored in directory: /root/.cache/pip/wheels/fe/87/8b/7ec24486e001d3926537f5f7801f57a74d181be25b11157983\n",
            "Successfully built yfinance\n",
            "Installing collected packages: lxml, yfinance\n",
            "  Attempting uninstall: lxml\n",
            "    Found existing installation: lxml 4.2.6\n",
            "    Uninstalling lxml-4.2.6:\n",
            "      Successfully uninstalled lxml-4.2.6\n",
            "Successfully installed lxml-4.6.3 yfinance-0.1.63\n"
          ],
          "name": "stdout"
        }
      ]
    },
    {
      "cell_type": "code",
      "metadata": {
        "id": "PY0vG0blid7d"
      },
      "source": [
        "import datetime\n",
        "import tensorflow as tf\n",
        "import torch\n",
        "import re\n",
        "import yfinance as yf\n",
        "import holidays\n",
        "import pickle\n",
        "from tqdm import tqdm\n",
        "from matplotlib import pyplot as plt"
      ],
      "execution_count": 4,
      "outputs": []
    },
    {
      "cell_type": "markdown",
      "metadata": {
        "id": "L2F1mLjtORE7"
      },
      "source": [
        "# **Load data**"
      ]
    },
    {
      "cell_type": "code",
      "metadata": {
        "colab": {
          "base_uri": "https://localhost:8080/"
        },
        "id": "Ue5DfSPlBTcC",
        "outputId": "9b12789f-f50b-4583-e0cc-2084e1dd1e70"
      },
      "source": [
        "from google.colab import drive\n",
        "import os\n",
        "drive.mount('/content/drive')\n"
      ],
      "execution_count": 5,
      "outputs": [
        {
          "output_type": "stream",
          "text": [
            "Mounted at /content/drive\n"
          ],
          "name": "stdout"
        }
      ]
    },
    {
      "cell_type": "code",
      "metadata": {
        "colab": {
          "base_uri": "https://localhost:8080/"
        },
        "id": "oek1z1dVcjlW",
        "outputId": "0363f3ff-3867-4a70-f503-af4beda99ef0"
      },
      "source": [
        "%cd /content/drive/My Drive\n",
        "!ls"
      ],
      "execution_count": 6,
      "outputs": [
        {
          "output_type": "stream",
          "text": [
            "/content/drive/My Drive\n",
            " 2019.csv\t\t\t   finbert_msft.h5\n",
            " 2019_large.csv\t\t\t   new_0803\n",
            "'AMLH_assig_4 - 副本.ipynb'\t   NewsSentimentAnalysis-master\n",
            " analyst_ratings_processed.csv\t   nytimesapi.ipynb\n",
            " analyst_small.csv\t\t   Sentences_AllAgree.txt\n",
            " BERT_huggingface_tutorial.ipynb   small_data.csv\n",
            " choice_news_ustime.csv\t\t  'Test 2.db'\n",
            "'Colab Notebooks'\t\t   Transformers_Demo.ipynb\n",
            " Confusion_matrix_nn.png\t   Untitled0.ipynb\n",
            " data\t\t\t\t   Untitled1.ipynb\n",
            " data_0802.csv\t\t\t   Untitled2.ipynb\n",
            " data_new.csv\t\t\t   Untitled3.ipynb\n",
            " data_with_title\t\t   us_equities_news_dataset.csv\n",
            " EN_data_preprocess.ipynb\t   us_small.csv\n",
            " EN_dic_fulldata_by_date.npy\t   yingwen_pretrained_demo.csv\n",
            " EN_model_train.ipynb\t\t   zhongwen_pretrained.csv\n",
            " finbert\t\t\t   中文.ipynb\n"
          ],
          "name": "stdout"
        }
      ]
    },
    {
      "cell_type": "code",
      "metadata": {
        "id": "jxrNIl8uYkHK"
      },
      "source": [
        "path = 'data_with_title' #文件夹目录\n",
        "files= os.listdir(path) "
      ],
      "execution_count": 7,
      "outputs": []
    },
    {
      "cell_type": "code",
      "metadata": {
        "colab": {
          "base_uri": "https://localhost:8080/"
        },
        "id": "hpKHeQPmYpzr",
        "outputId": "c800cc38-8c55-4401-e741-8950c7b553a9"
      },
      "source": [
        "files"
      ],
      "execution_count": 8,
      "outputs": [
        {
          "output_type": "execute_result",
          "data": {
            "text/plain": [
              "['2011_title.csv',\n",
              " '2019_title.csv',\n",
              " '2020_title.csv',\n",
              " '2018_title.csv',\n",
              " '2017_title.csv',\n",
              " '2016_title.csv',\n",
              " '2015_title.csv',\n",
              " '2014_title.csv',\n",
              " '2013_title.csv',\n",
              " '2012_title.csv']"
            ]
          },
          "metadata": {
            "tags": []
          },
          "execution_count": 8
        }
      ]
    },
    {
      "cell_type": "code",
      "metadata": {
        "colab": {
          "base_uri": "https://localhost:8080/"
        },
        "id": "MLjosvqOY-0q",
        "outputId": "d3177edf-301e-4f52-aad3-fe876a11f149"
      },
      "source": [
        "%cd /content/drive/My Drive/data_with_title\n",
        "!ls"
      ],
      "execution_count": 9,
      "outputs": [
        {
          "output_type": "stream",
          "text": [
            "/content/drive/My Drive/data_with_title\n",
            "2011_title.csv\t2013_title.csv\t2015_title.csv\t2017_title.csv\t2019_title.csv\n",
            "2012_title.csv\t2014_title.csv\t2016_title.csv\t2018_title.csv\t2020_title.csv\n"
          ],
          "name": "stdout"
        }
      ]
    },
    {
      "cell_type": "code",
      "metadata": {
        "id": "OiEfBDGHYPVZ"
      },
      "source": [
        "data3 = pd.DataFrame(data = None)\n",
        "for file in files: \n",
        "    position = file \n",
        "    data_new = pd.read_csv(position, index_col=0)\n",
        "    data3 = pd.concat([data3, data_new])"
      ],
      "execution_count": 10,
      "outputs": []
    },
    {
      "cell_type": "code",
      "metadata": {
        "id": "0JvEKR1nZe44"
      },
      "source": [
        "data3 = data3[['date','headline']]\n",
        "data3.drop_duplicates(subset='headline', keep='first', inplace=True)\n",
        "data3.rename(columns={'headline':'title'}, inplace=True)\n",
        "data3 = data3.sort_values(by=\"date\" ,ascending=False)\n",
        "data3.reset_index(drop=True, inplace=True)"
      ],
      "execution_count": 11,
      "outputs": []
    },
    {
      "cell_type": "code",
      "metadata": {
        "colab": {
          "base_uri": "https://localhost:8080/",
          "height": 417
        },
        "id": "5tKLw96tbME4",
        "outputId": "840ac78d-295a-4d44-a759-03046a16b5c1"
      },
      "source": [
        "data3"
      ],
      "execution_count": 12,
      "outputs": [
        {
          "output_type": "execute_result",
          "data": {
            "text/html": [
              "<div>\n",
              "<style scoped>\n",
              "    .dataframe tbody tr th:only-of-type {\n",
              "        vertical-align: middle;\n",
              "    }\n",
              "\n",
              "    .dataframe tbody tr th {\n",
              "        vertical-align: top;\n",
              "    }\n",
              "\n",
              "    .dataframe thead th {\n",
              "        text-align: right;\n",
              "    }\n",
              "</style>\n",
              "<table border=\"1\" class=\"dataframe\">\n",
              "  <thead>\n",
              "    <tr style=\"text-align: right;\">\n",
              "      <th></th>\n",
              "      <th>date</th>\n",
              "      <th>title</th>\n",
              "    </tr>\n",
              "  </thead>\n",
              "  <tbody>\n",
              "    <tr>\n",
              "      <th>0</th>\n",
              "      <td>20201231-180826</td>\n",
              "      <td>The World Begins Saying Goodbye to 2020</td>\n",
              "    </tr>\n",
              "    <tr>\n",
              "      <th>1</th>\n",
              "      <td>20201231-180301</td>\n",
              "      <td>New in Paperback: ‘The Red Lotus’ and ‘This Is...</td>\n",
              "    </tr>\n",
              "    <tr>\n",
              "      <th>2</th>\n",
              "      <td>20201231-180202</td>\n",
              "      <td>Microsoft Says Russian Hackers Viewed Some of ...</td>\n",
              "    </tr>\n",
              "    <tr>\n",
              "      <th>3</th>\n",
              "      <td>20201231-175027</td>\n",
              "      <td>Some recipe ideas for a New Year’s Eve at home.</td>\n",
              "    </tr>\n",
              "    <tr>\n",
              "      <th>4</th>\n",
              "      <td>20201231-173748</td>\n",
              "      <td>‘Ratatouille,’ the Musical: How This TikTok Cr...</td>\n",
              "    </tr>\n",
              "    <tr>\n",
              "      <th>...</th>\n",
              "      <td>...</td>\n",
              "      <td>...</td>\n",
              "    </tr>\n",
              "    <tr>\n",
              "      <th>724625</th>\n",
              "      <td>20110101-000032</td>\n",
              "      <td>Chronicle of a Changing City</td>\n",
              "    </tr>\n",
              "    <tr>\n",
              "      <th>724626</th>\n",
              "      <td>20110101-000028</td>\n",
              "      <td>The Wilderness Below Your Feet</td>\n",
              "    </tr>\n",
              "    <tr>\n",
              "      <th>724627</th>\n",
              "      <td>20110101-000027</td>\n",
              "      <td>A Time for Gravy and Football</td>\n",
              "    </tr>\n",
              "    <tr>\n",
              "      <th>724628</th>\n",
              "      <td>20110101-000027</td>\n",
              "      <td>Conflict’s Many Marks on the Map</td>\n",
              "    </tr>\n",
              "    <tr>\n",
              "      <th>724629</th>\n",
              "      <td>20110101-000027</td>\n",
              "      <td>Excerpts From the Ethnic Press</td>\n",
              "    </tr>\n",
              "  </tbody>\n",
              "</table>\n",
              "<p>724630 rows × 2 columns</p>\n",
              "</div>"
            ],
            "text/plain": [
              "                   date                                              title\n",
              "0       20201231-180826            The World Begins Saying Goodbye to 2020\n",
              "1       20201231-180301  New in Paperback: ‘The Red Lotus’ and ‘This Is...\n",
              "2       20201231-180202  Microsoft Says Russian Hackers Viewed Some of ...\n",
              "3       20201231-175027    Some recipe ideas for a New Year’s Eve at home.\n",
              "4       20201231-173748  ‘Ratatouille,’ the Musical: How This TikTok Cr...\n",
              "...                 ...                                                ...\n",
              "724625  20110101-000032                       Chronicle of a Changing City\n",
              "724626  20110101-000028                     The Wilderness Below Your Feet\n",
              "724627  20110101-000027                      A Time for Gravy and Football\n",
              "724628  20110101-000027                   Conflict’s Many Marks on the Map\n",
              "724629  20110101-000027                     Excerpts From the Ethnic Press\n",
              "\n",
              "[724630 rows x 2 columns]"
            ]
          },
          "metadata": {
            "tags": []
          },
          "execution_count": 12
        }
      ]
    },
    {
      "cell_type": "code",
      "metadata": {
        "id": "Smj-VdDdbqMz"
      },
      "source": [
        "data3_adj_date = data3"
      ],
      "execution_count": 13,
      "outputs": []
    },
    {
      "cell_type": "code",
      "metadata": {
        "id": "5iScQVnZawIH"
      },
      "source": [
        "data3_adj_date['date'] = data3_adj_date['date'].map(lambda x:x[:8])\n",
        "data3_adj_date['date'] = pd.to_datetime(data3_adj_date['date']).apply(lambda x : x.strftime('%Y-%m-%d'))"
      ],
      "execution_count": 14,
      "outputs": []
    },
    {
      "cell_type": "code",
      "metadata": {
        "colab": {
          "base_uri": "https://localhost:8080/",
          "height": 417
        },
        "id": "iLZHm3pEa_DF",
        "outputId": "7423505d-e135-4b5a-faf0-d5774263582a"
      },
      "source": [
        "data3_adj_date"
      ],
      "execution_count": 15,
      "outputs": [
        {
          "output_type": "execute_result",
          "data": {
            "text/html": [
              "<div>\n",
              "<style scoped>\n",
              "    .dataframe tbody tr th:only-of-type {\n",
              "        vertical-align: middle;\n",
              "    }\n",
              "\n",
              "    .dataframe tbody tr th {\n",
              "        vertical-align: top;\n",
              "    }\n",
              "\n",
              "    .dataframe thead th {\n",
              "        text-align: right;\n",
              "    }\n",
              "</style>\n",
              "<table border=\"1\" class=\"dataframe\">\n",
              "  <thead>\n",
              "    <tr style=\"text-align: right;\">\n",
              "      <th></th>\n",
              "      <th>date</th>\n",
              "      <th>title</th>\n",
              "    </tr>\n",
              "  </thead>\n",
              "  <tbody>\n",
              "    <tr>\n",
              "      <th>0</th>\n",
              "      <td>2020-12-31</td>\n",
              "      <td>The World Begins Saying Goodbye to 2020</td>\n",
              "    </tr>\n",
              "    <tr>\n",
              "      <th>1</th>\n",
              "      <td>2020-12-31</td>\n",
              "      <td>New in Paperback: ‘The Red Lotus’ and ‘This Is...</td>\n",
              "    </tr>\n",
              "    <tr>\n",
              "      <th>2</th>\n",
              "      <td>2020-12-31</td>\n",
              "      <td>Microsoft Says Russian Hackers Viewed Some of ...</td>\n",
              "    </tr>\n",
              "    <tr>\n",
              "      <th>3</th>\n",
              "      <td>2020-12-31</td>\n",
              "      <td>Some recipe ideas for a New Year’s Eve at home.</td>\n",
              "    </tr>\n",
              "    <tr>\n",
              "      <th>4</th>\n",
              "      <td>2020-12-31</td>\n",
              "      <td>‘Ratatouille,’ the Musical: How This TikTok Cr...</td>\n",
              "    </tr>\n",
              "    <tr>\n",
              "      <th>...</th>\n",
              "      <td>...</td>\n",
              "      <td>...</td>\n",
              "    </tr>\n",
              "    <tr>\n",
              "      <th>724625</th>\n",
              "      <td>2011-01-01</td>\n",
              "      <td>Chronicle of a Changing City</td>\n",
              "    </tr>\n",
              "    <tr>\n",
              "      <th>724626</th>\n",
              "      <td>2011-01-01</td>\n",
              "      <td>The Wilderness Below Your Feet</td>\n",
              "    </tr>\n",
              "    <tr>\n",
              "      <th>724627</th>\n",
              "      <td>2011-01-01</td>\n",
              "      <td>A Time for Gravy and Football</td>\n",
              "    </tr>\n",
              "    <tr>\n",
              "      <th>724628</th>\n",
              "      <td>2011-01-01</td>\n",
              "      <td>Conflict’s Many Marks on the Map</td>\n",
              "    </tr>\n",
              "    <tr>\n",
              "      <th>724629</th>\n",
              "      <td>2011-01-01</td>\n",
              "      <td>Excerpts From the Ethnic Press</td>\n",
              "    </tr>\n",
              "  </tbody>\n",
              "</table>\n",
              "<p>724630 rows × 2 columns</p>\n",
              "</div>"
            ],
            "text/plain": [
              "              date                                              title\n",
              "0       2020-12-31            The World Begins Saying Goodbye to 2020\n",
              "1       2020-12-31  New in Paperback: ‘The Red Lotus’ and ‘This Is...\n",
              "2       2020-12-31  Microsoft Says Russian Hackers Viewed Some of ...\n",
              "3       2020-12-31    Some recipe ideas for a New Year’s Eve at home.\n",
              "4       2020-12-31  ‘Ratatouille,’ the Musical: How This TikTok Cr...\n",
              "...            ...                                                ...\n",
              "724625  2011-01-01                       Chronicle of a Changing City\n",
              "724626  2011-01-01                     The Wilderness Below Your Feet\n",
              "724627  2011-01-01                      A Time for Gravy and Football\n",
              "724628  2011-01-01                   Conflict’s Many Marks on the Map\n",
              "724629  2011-01-01                     Excerpts From the Ethnic Press\n",
              "\n",
              "[724630 rows x 2 columns]"
            ]
          },
          "metadata": {
            "tags": []
          },
          "execution_count": 15
        }
      ]
    },
    {
      "cell_type": "code",
      "metadata": {
        "colab": {
          "base_uri": "https://localhost:8080/"
        },
        "id": "9kUnylXGZbbF",
        "outputId": "00c989ef-4d4e-4bf7-f7d5-ee379355cc15"
      },
      "source": [
        "%cd /content/drive/My Drive\n",
        "!ls"
      ],
      "execution_count": 16,
      "outputs": [
        {
          "output_type": "stream",
          "text": [
            "/content/drive/My Drive\n",
            " 2019.csv\t\t\t   finbert_msft.h5\n",
            " 2019_large.csv\t\t\t   new_0803\n",
            "'AMLH_assig_4 - 副本.ipynb'\t   NewsSentimentAnalysis-master\n",
            " analyst_ratings_processed.csv\t   nytimesapi.ipynb\n",
            " analyst_small.csv\t\t   Sentences_AllAgree.txt\n",
            " BERT_huggingface_tutorial.ipynb   small_data.csv\n",
            " choice_news_ustime.csv\t\t  'Test 2.db'\n",
            "'Colab Notebooks'\t\t   Transformers_Demo.ipynb\n",
            " Confusion_matrix_nn.png\t   Untitled0.ipynb\n",
            " data\t\t\t\t   Untitled1.ipynb\n",
            " data_0802.csv\t\t\t   Untitled2.ipynb\n",
            " data_new.csv\t\t\t   Untitled3.ipynb\n",
            " data_with_title\t\t   us_equities_news_dataset.csv\n",
            " EN_data_preprocess.ipynb\t   us_small.csv\n",
            " EN_dic_fulldata_by_date.npy\t   yingwen_pretrained_demo.csv\n",
            " EN_model_train.ipynb\t\t   zhongwen_pretrained.csv\n",
            " finbert\t\t\t   中文.ipynb\n"
          ],
          "name": "stdout"
        }
      ]
    },
    {
      "cell_type": "code",
      "metadata": {
        "colab": {
          "base_uri": "https://localhost:8080/"
        },
        "id": "4K-G_YSDBvb4",
        "outputId": "64f37808-a31b-4dcc-caea-e712e1b468f6"
      },
      "source": [
        "data1 = pd.read_csv('analyst_ratings_processed.csv', index_col=0)\n",
        "data1.dropna(inplace = True)\n",
        "data1.rename(columns={'stock':'ticker'}, inplace=True)\n",
        "data1['date'] = data1['date'].apply(lambda x : x.split()[0])\n",
        "data2 = pd.read_csv('us_equities_news_dataset.csv', index_col=0)\n",
        "data2.dropna(inplace = True)\n",
        "data2.reset_index(drop=True, inplace=True)\n",
        "data2.rename(columns={'release_date':'date'}, inplace=True)\n",
        "data2.drop(inplace=True, columns=['category', 'content', 'provider', 'url', 'article_id'], axis=1)"
      ],
      "execution_count": 17,
      "outputs": [
        {
          "output_type": "stream",
          "text": [
            "/usr/local/lib/python3.7/dist-packages/numpy/lib/arraysetops.py:580: FutureWarning: elementwise comparison failed; returning scalar instead, but in the future will perform elementwise comparison\n",
            "  mask |= (ar1 == a)\n"
          ],
          "name": "stderr"
        }
      ]
    },
    {
      "cell_type": "code",
      "metadata": {
        "id": "O5rTrNeAByO0",
        "colab": {
          "base_uri": "https://localhost:8080/",
          "height": 417
        },
        "outputId": "1ccba49c-a349-4993-b8dc-826ad02bb30c"
      },
      "source": [
        "data1"
      ],
      "execution_count": 18,
      "outputs": [
        {
          "output_type": "execute_result",
          "data": {
            "text/html": [
              "<div>\n",
              "<style scoped>\n",
              "    .dataframe tbody tr th:only-of-type {\n",
              "        vertical-align: middle;\n",
              "    }\n",
              "\n",
              "    .dataframe tbody tr th {\n",
              "        vertical-align: top;\n",
              "    }\n",
              "\n",
              "    .dataframe thead th {\n",
              "        text-align: right;\n",
              "    }\n",
              "</style>\n",
              "<table border=\"1\" class=\"dataframe\">\n",
              "  <thead>\n",
              "    <tr style=\"text-align: right;\">\n",
              "      <th></th>\n",
              "      <th>title</th>\n",
              "      <th>date</th>\n",
              "      <th>ticker</th>\n",
              "    </tr>\n",
              "  </thead>\n",
              "  <tbody>\n",
              "    <tr>\n",
              "      <th>0.0</th>\n",
              "      <td>Stocks That Hit 52-Week Highs On Friday</td>\n",
              "      <td>2020-06-05</td>\n",
              "      <td>A</td>\n",
              "    </tr>\n",
              "    <tr>\n",
              "      <th>1.0</th>\n",
              "      <td>Stocks That Hit 52-Week Highs On Wednesday</td>\n",
              "      <td>2020-06-03</td>\n",
              "      <td>A</td>\n",
              "    </tr>\n",
              "    <tr>\n",
              "      <th>2.0</th>\n",
              "      <td>71 Biggest Movers From Friday</td>\n",
              "      <td>2020-05-26</td>\n",
              "      <td>A</td>\n",
              "    </tr>\n",
              "    <tr>\n",
              "      <th>3.0</th>\n",
              "      <td>46 Stocks Moving In Friday's Mid-Day Session</td>\n",
              "      <td>2020-05-22</td>\n",
              "      <td>A</td>\n",
              "    </tr>\n",
              "    <tr>\n",
              "      <th>4.0</th>\n",
              "      <td>B of A Securities Maintains Neutral on Agilent...</td>\n",
              "      <td>2020-05-22</td>\n",
              "      <td>A</td>\n",
              "    </tr>\n",
              "    <tr>\n",
              "      <th>...</th>\n",
              "      <td>...</td>\n",
              "      <td>...</td>\n",
              "      <td>...</td>\n",
              "    </tr>\n",
              "    <tr>\n",
              "      <th>1413844.0</th>\n",
              "      <td>Top Narrow Based Indexes For August 29</td>\n",
              "      <td>2011-08-29</td>\n",
              "      <td>ZX</td>\n",
              "    </tr>\n",
              "    <tr>\n",
              "      <th>1413845.0</th>\n",
              "      <td>Recap: Wednesday's Top Percentage Gainers and ...</td>\n",
              "      <td>2011-06-22</td>\n",
              "      <td>ZX</td>\n",
              "    </tr>\n",
              "    <tr>\n",
              "      <th>1413846.0</th>\n",
              "      <td>UPDATE: Oppenheimer Color on China Zenix Auto ...</td>\n",
              "      <td>2011-06-21</td>\n",
              "      <td>ZX</td>\n",
              "    </tr>\n",
              "    <tr>\n",
              "      <th>1413847.0</th>\n",
              "      <td>Oppenheimer Initiates China Zenix At Outperfor...</td>\n",
              "      <td>2011-06-21</td>\n",
              "      <td>ZX</td>\n",
              "    </tr>\n",
              "    <tr>\n",
              "      <th>1413848.0</th>\n",
              "      <td>China Zenix Auto International Opens For Tradi...</td>\n",
              "      <td>2011-05-12</td>\n",
              "      <td>ZX</td>\n",
              "    </tr>\n",
              "  </tbody>\n",
              "</table>\n",
              "<p>1397891 rows × 3 columns</p>\n",
              "</div>"
            ],
            "text/plain": [
              "                                                       title        date ticker\n",
              "0.0                  Stocks That Hit 52-Week Highs On Friday  2020-06-05      A\n",
              "1.0               Stocks That Hit 52-Week Highs On Wednesday  2020-06-03      A\n",
              "2.0                            71 Biggest Movers From Friday  2020-05-26      A\n",
              "3.0             46 Stocks Moving In Friday's Mid-Day Session  2020-05-22      A\n",
              "4.0        B of A Securities Maintains Neutral on Agilent...  2020-05-22      A\n",
              "...                                                      ...         ...    ...\n",
              "1413844.0             Top Narrow Based Indexes For August 29  2011-08-29     ZX\n",
              "1413845.0  Recap: Wednesday's Top Percentage Gainers and ...  2011-06-22     ZX\n",
              "1413846.0  UPDATE: Oppenheimer Color on China Zenix Auto ...  2011-06-21     ZX\n",
              "1413847.0  Oppenheimer Initiates China Zenix At Outperfor...  2011-06-21     ZX\n",
              "1413848.0  China Zenix Auto International Opens For Tradi...  2011-05-12     ZX\n",
              "\n",
              "[1397891 rows x 3 columns]"
            ]
          },
          "metadata": {
            "tags": []
          },
          "execution_count": 18
        }
      ]
    },
    {
      "cell_type": "code",
      "metadata": {
        "colab": {
          "base_uri": "https://localhost:8080/",
          "height": 417
        },
        "id": "MLQnAeVoONpQ",
        "outputId": "27e39f4b-798a-49e9-c022-023e0308f400"
      },
      "source": [
        "data2"
      ],
      "execution_count": 19,
      "outputs": [
        {
          "output_type": "execute_result",
          "data": {
            "text/html": [
              "<div>\n",
              "<style scoped>\n",
              "    .dataframe tbody tr th:only-of-type {\n",
              "        vertical-align: middle;\n",
              "    }\n",
              "\n",
              "    .dataframe tbody tr th {\n",
              "        vertical-align: top;\n",
              "    }\n",
              "\n",
              "    .dataframe thead th {\n",
              "        text-align: right;\n",
              "    }\n",
              "</style>\n",
              "<table border=\"1\" class=\"dataframe\">\n",
              "  <thead>\n",
              "    <tr style=\"text-align: right;\">\n",
              "      <th></th>\n",
              "      <th>ticker</th>\n",
              "      <th>title</th>\n",
              "      <th>date</th>\n",
              "    </tr>\n",
              "  </thead>\n",
              "  <tbody>\n",
              "    <tr>\n",
              "      <th>0</th>\n",
              "      <td>NIO</td>\n",
              "      <td>Why Shares of Chinese Electric Car Maker NIO A...</td>\n",
              "      <td>2020-01-15</td>\n",
              "    </tr>\n",
              "    <tr>\n",
              "      <th>1</th>\n",
              "      <td>NIO</td>\n",
              "      <td>NIO only consumer gainer  Workhorse Group amon...</td>\n",
              "      <td>2020-01-18</td>\n",
              "    </tr>\n",
              "    <tr>\n",
              "      <th>2</th>\n",
              "      <td>NIO</td>\n",
              "      <td>NIO leads consumer gainers  Beyond Meat and Ma...</td>\n",
              "      <td>2020-01-15</td>\n",
              "    </tr>\n",
              "    <tr>\n",
              "      <th>3</th>\n",
              "      <td>NIO</td>\n",
              "      <td>NIO  NVAX among premarket gainers</td>\n",
              "      <td>2020-01-15</td>\n",
              "    </tr>\n",
              "    <tr>\n",
              "      <th>4</th>\n",
              "      <td>NIO</td>\n",
              "      <td>PLUG  NIO among premarket gainers</td>\n",
              "      <td>2020-01-06</td>\n",
              "    </tr>\n",
              "    <tr>\n",
              "      <th>...</th>\n",
              "      <td>...</td>\n",
              "      <td>...</td>\n",
              "      <td>...</td>\n",
              "    </tr>\n",
              "    <tr>\n",
              "      <th>221500</th>\n",
              "      <td>T</td>\n",
              "      <td>Crude And Steel Still In Sync</td>\n",
              "      <td>2012-10-04</td>\n",
              "    </tr>\n",
              "    <tr>\n",
              "      <th>221501</th>\n",
              "      <td>T</td>\n",
              "      <td>Forget AT T  This Is The Telecom Stock You Sho...</td>\n",
              "      <td>2012-05-30</td>\n",
              "    </tr>\n",
              "    <tr>\n",
              "      <th>221502</th>\n",
              "      <td>T</td>\n",
              "      <td>Wall Street Exposed   Part 3   How Dividends C...</td>\n",
              "      <td>2012-07-16</td>\n",
              "    </tr>\n",
              "    <tr>\n",
              "      <th>221503</th>\n",
              "      <td>T</td>\n",
              "      <td>Weighing The Week Ahead  It s All About Jobs</td>\n",
              "      <td>2012-09-02</td>\n",
              "    </tr>\n",
              "    <tr>\n",
              "      <th>221504</th>\n",
              "      <td>T</td>\n",
              "      <td>Leap Wireless  LEAP    JPM Note and AT T   T M...</td>\n",
              "      <td>2011-12-31</td>\n",
              "    </tr>\n",
              "  </tbody>\n",
              "</table>\n",
              "<p>221505 rows × 3 columns</p>\n",
              "</div>"
            ],
            "text/plain": [
              "       ticker                                              title        date\n",
              "0         NIO  Why Shares of Chinese Electric Car Maker NIO A...  2020-01-15\n",
              "1         NIO  NIO only consumer gainer  Workhorse Group amon...  2020-01-18\n",
              "2         NIO  NIO leads consumer gainers  Beyond Meat and Ma...  2020-01-15\n",
              "3         NIO                  NIO  NVAX among premarket gainers  2020-01-15\n",
              "4         NIO                  PLUG  NIO among premarket gainers  2020-01-06\n",
              "...       ...                                                ...         ...\n",
              "221500      T                     Crude And Steel Still In Sync   2012-10-04\n",
              "221501      T  Forget AT T  This Is The Telecom Stock You Sho...  2012-05-30\n",
              "221502      T  Wall Street Exposed   Part 3   How Dividends C...  2012-07-16\n",
              "221503      T       Weighing The Week Ahead  It s All About Jobs  2012-09-02\n",
              "221504      T  Leap Wireless  LEAP    JPM Note and AT T   T M...  2011-12-31\n",
              "\n",
              "[221505 rows x 3 columns]"
            ]
          },
          "metadata": {
            "tags": []
          },
          "execution_count": 19
        }
      ]
    },
    {
      "cell_type": "code",
      "metadata": {
        "id": "6WBIkqnsZe1U"
      },
      "source": [
        ""
      ],
      "execution_count": null,
      "outputs": []
    },
    {
      "cell_type": "markdown",
      "metadata": {
        "id": "sPgngiPmOV7f"
      },
      "source": [
        "# **Concat Data**"
      ]
    },
    {
      "cell_type": "code",
      "metadata": {
        "id": "8NuE7U-9OZ-3"
      },
      "source": [
        "data = pd.concat([data1, data2,data3_adj_date])"
      ],
      "execution_count": 20,
      "outputs": []
    },
    {
      "cell_type": "code",
      "metadata": {
        "colab": {
          "base_uri": "https://localhost:8080/",
          "height": 172
        },
        "id": "4PiWIYheOaBA",
        "outputId": "0c1c4659-3480-4338-c6f8-c4107ae94388"
      },
      "source": [
        "data.describe()"
      ],
      "execution_count": 22,
      "outputs": [
        {
          "output_type": "execute_result",
          "data": {
            "text/html": [
              "<div>\n",
              "<style scoped>\n",
              "    .dataframe tbody tr th:only-of-type {\n",
              "        vertical-align: middle;\n",
              "    }\n",
              "\n",
              "    .dataframe tbody tr th {\n",
              "        vertical-align: top;\n",
              "    }\n",
              "\n",
              "    .dataframe thead th {\n",
              "        text-align: right;\n",
              "    }\n",
              "</style>\n",
              "<table border=\"1\" class=\"dataframe\">\n",
              "  <thead>\n",
              "    <tr style=\"text-align: right;\">\n",
              "      <th></th>\n",
              "      <th>title</th>\n",
              "      <th>date</th>\n",
              "      <th>ticker</th>\n",
              "    </tr>\n",
              "  </thead>\n",
              "  <tbody>\n",
              "    <tr>\n",
              "      <th>count</th>\n",
              "      <td>2344025</td>\n",
              "      <td>2344026</td>\n",
              "      <td>1619396</td>\n",
              "    </tr>\n",
              "    <tr>\n",
              "      <th>unique</th>\n",
              "      <td>1781074</td>\n",
              "      <td>4423</td>\n",
              "      <td>6357</td>\n",
              "    </tr>\n",
              "    <tr>\n",
              "      <th>top</th>\n",
              "      <td>Benzinga's Top Upgrades</td>\n",
              "      <td>2020-03-12</td>\n",
              "      <td>AAPL</td>\n",
              "    </tr>\n",
              "    <tr>\n",
              "      <th>freq</th>\n",
              "      <td>5349</td>\n",
              "      <td>2962</td>\n",
              "      <td>20700</td>\n",
              "    </tr>\n",
              "  </tbody>\n",
              "</table>\n",
              "</div>"
            ],
            "text/plain": [
              "                          title        date   ticker\n",
              "count                   2344025     2344026  1619396\n",
              "unique                  1781074        4423     6357\n",
              "top     Benzinga's Top Upgrades  2020-03-12     AAPL\n",
              "freq                       5349        2962    20700"
            ]
          },
          "metadata": {
            "tags": []
          },
          "execution_count": 22
        }
      ]
    },
    {
      "cell_type": "code",
      "metadata": {
        "id": "Z2CX2mcBOaC4"
      },
      "source": [
        ""
      ],
      "execution_count": 24,
      "outputs": []
    },
    {
      "cell_type": "markdown",
      "metadata": {
        "id": "3Q3IZb92RCnC"
      },
      "source": [
        "# **Filter Data**"
      ]
    },
    {
      "cell_type": "markdown",
      "metadata": {
        "id": "ZSFG43FtOiY1"
      },
      "source": [
        "There are ~2000,000 data. In this project we use a smaller subset of this.\n",
        "\n",
        "\n",
        "\n"
      ]
    },
    {
      "cell_type": "code",
      "metadata": {
        "id": "nSFfFv0tQyvy"
      },
      "source": [
        "def draw_from_dict(dicdata,RANGE, heng=0):\n",
        "    by_value = sorted(dicdata.items(),key = lambda item:item[1],reverse=True)\n",
        "    x = []\n",
        "    y = []\n",
        "    for d in by_value:\n",
        "        x.append(d[0])\n",
        "        y.append(d[1])\n",
        "    if heng == 0:\n",
        "        plt.bar(x[2:RANGE], y[2:RANGE])\n",
        "        plt.show()\n",
        "        return \n",
        "    elif heng == 1:\n",
        "        plt.barh(x[2:RANGE], y[2:RANGE])\n",
        "        plt.show()\n",
        "        return "
      ],
      "execution_count": 28,
      "outputs": []
    },
    {
      "cell_type": "markdown",
      "metadata": {
        "id": "ti-vaGXjQwC0"
      },
      "source": [
        "# **Average everyday news**"
      ]
    },
    {
      "cell_type": "code",
      "metadata": {
        "colab": {
          "base_uri": "https://localhost:8080/",
          "height": 172
        },
        "id": "qPOHLFmidgn3",
        "outputId": "c44fa43e-3699-4916-9d33-645447320bb8"
      },
      "source": [
        "data = data.sort_values(by=\"date\" ,ascending=False)\n",
        "data.describe()"
      ],
      "execution_count": 26,
      "outputs": [
        {
          "output_type": "execute_result",
          "data": {
            "text/html": [
              "<div>\n",
              "<style scoped>\n",
              "    .dataframe tbody tr th:only-of-type {\n",
              "        vertical-align: middle;\n",
              "    }\n",
              "\n",
              "    .dataframe tbody tr th {\n",
              "        vertical-align: top;\n",
              "    }\n",
              "\n",
              "    .dataframe thead th {\n",
              "        text-align: right;\n",
              "    }\n",
              "</style>\n",
              "<table border=\"1\" class=\"dataframe\">\n",
              "  <thead>\n",
              "    <tr style=\"text-align: right;\">\n",
              "      <th></th>\n",
              "      <th>title</th>\n",
              "      <th>date</th>\n",
              "      <th>ticker</th>\n",
              "    </tr>\n",
              "  </thead>\n",
              "  <tbody>\n",
              "    <tr>\n",
              "      <th>count</th>\n",
              "      <td>2344025</td>\n",
              "      <td>2344026</td>\n",
              "      <td>1619396</td>\n",
              "    </tr>\n",
              "    <tr>\n",
              "      <th>unique</th>\n",
              "      <td>1781074</td>\n",
              "      <td>4423</td>\n",
              "      <td>6357</td>\n",
              "    </tr>\n",
              "    <tr>\n",
              "      <th>top</th>\n",
              "      <td>Benzinga's Top Upgrades</td>\n",
              "      <td>2020-03-12</td>\n",
              "      <td>AAPL</td>\n",
              "    </tr>\n",
              "    <tr>\n",
              "      <th>freq</th>\n",
              "      <td>5349</td>\n",
              "      <td>2962</td>\n",
              "      <td>20700</td>\n",
              "    </tr>\n",
              "  </tbody>\n",
              "</table>\n",
              "</div>"
            ],
            "text/plain": [
              "                          title        date   ticker\n",
              "count                   2344025     2344026  1619396\n",
              "unique                  1781074        4423     6357\n",
              "top     Benzinga's Top Upgrades  2020-03-12     AAPL\n",
              "freq                       5349        2962    20700"
            ]
          },
          "metadata": {
            "tags": []
          },
          "execution_count": 26
        }
      ]
    },
    {
      "cell_type": "code",
      "metadata": {
        "colab": {
          "base_uri": "https://localhost:8080/",
          "height": 417
        },
        "id": "cRH419uQQGcn",
        "outputId": "f0ceb9a4-89d1-46da-b1f1-a1c9c1141cf8"
      },
      "source": [
        "data.reset_index(drop=True, inplace=True)\n",
        "data"
      ],
      "execution_count": 27,
      "outputs": [
        {
          "output_type": "execute_result",
          "data": {
            "text/html": [
              "<div>\n",
              "<style scoped>\n",
              "    .dataframe tbody tr th:only-of-type {\n",
              "        vertical-align: middle;\n",
              "    }\n",
              "\n",
              "    .dataframe tbody tr th {\n",
              "        vertical-align: top;\n",
              "    }\n",
              "\n",
              "    .dataframe thead th {\n",
              "        text-align: right;\n",
              "    }\n",
              "</style>\n",
              "<table border=\"1\" class=\"dataframe\">\n",
              "  <thead>\n",
              "    <tr style=\"text-align: right;\">\n",
              "      <th></th>\n",
              "      <th>title</th>\n",
              "      <th>date</th>\n",
              "      <th>ticker</th>\n",
              "    </tr>\n",
              "  </thead>\n",
              "  <tbody>\n",
              "    <tr>\n",
              "      <th>0</th>\n",
              "      <td>German Automakers Are Charged Up and Ready to ...</td>\n",
              "      <td>2020-12-31</td>\n",
              "      <td>NaN</td>\n",
              "    </tr>\n",
              "    <tr>\n",
              "      <th>1</th>\n",
              "      <td>Siblings Are Killed in I-95 Crash in Florida a...</td>\n",
              "      <td>2020-12-31</td>\n",
              "      <td>NaN</td>\n",
              "    </tr>\n",
              "    <tr>\n",
              "      <th>2</th>\n",
              "      <td>Yup, People Are Going to Parties on New Year’s...</td>\n",
              "      <td>2020-12-31</td>\n",
              "      <td>NaN</td>\n",
              "    </tr>\n",
              "    <tr>\n",
              "      <th>3</th>\n",
              "      <td>11 Things Our Critics Are Looking Forward to i...</td>\n",
              "      <td>2020-12-31</td>\n",
              "      <td>NaN</td>\n",
              "    </tr>\n",
              "    <tr>\n",
              "      <th>4</th>\n",
              "      <td>Becky Hammon Becomes First Woman to Serve as H...</td>\n",
              "      <td>2020-12-31</td>\n",
              "      <td>NaN</td>\n",
              "    </tr>\n",
              "    <tr>\n",
              "      <th>...</th>\n",
              "      <td>...</td>\n",
              "      <td>...</td>\n",
              "      <td>...</td>\n",
              "    </tr>\n",
              "    <tr>\n",
              "      <th>2344021</th>\n",
              "      <td>GLOBAL MARKETS Stocks hold up after Wells Wach...</td>\n",
              "      <td>2008-10-03</td>\n",
              "      <td>WFC</td>\n",
              "    </tr>\n",
              "    <tr>\n",
              "      <th>2344022</th>\n",
              "      <td>FOREX Dollar poised for biggest weekly gain in...</td>\n",
              "      <td>2008-10-03</td>\n",
              "      <td>TGT</td>\n",
              "    </tr>\n",
              "    <tr>\n",
              "      <th>2344023</th>\n",
              "      <td>GLOBAL MARKETS Stocks rally on Wells Wachovia ...</td>\n",
              "      <td>2008-10-03</td>\n",
              "      <td>C</td>\n",
              "    </tr>\n",
              "    <tr>\n",
              "      <th>2344024</th>\n",
              "      <td>GLOBAL MARKETS U S  bailout plan passes  inves...</td>\n",
              "      <td>2008-10-03</td>\n",
              "      <td>WFC</td>\n",
              "    </tr>\n",
              "    <tr>\n",
              "      <th>2344025</th>\n",
              "      <td>Nikkei down 1 4 pct on economy fears  autos drop</td>\n",
              "      <td>2008-10-02</td>\n",
              "      <td>KYOCY</td>\n",
              "    </tr>\n",
              "  </tbody>\n",
              "</table>\n",
              "<p>2344026 rows × 3 columns</p>\n",
              "</div>"
            ],
            "text/plain": [
              "                                                     title        date ticker\n",
              "0        German Automakers Are Charged Up and Ready to ...  2020-12-31    NaN\n",
              "1        Siblings Are Killed in I-95 Crash in Florida a...  2020-12-31    NaN\n",
              "2        Yup, People Are Going to Parties on New Year’s...  2020-12-31    NaN\n",
              "3        11 Things Our Critics Are Looking Forward to i...  2020-12-31    NaN\n",
              "4        Becky Hammon Becomes First Woman to Serve as H...  2020-12-31    NaN\n",
              "...                                                    ...         ...    ...\n",
              "2344021  GLOBAL MARKETS Stocks hold up after Wells Wach...  2008-10-03    WFC\n",
              "2344022  FOREX Dollar poised for biggest weekly gain in...  2008-10-03    TGT\n",
              "2344023  GLOBAL MARKETS Stocks rally on Wells Wachovia ...  2008-10-03      C\n",
              "2344024  GLOBAL MARKETS U S  bailout plan passes  inves...  2008-10-03    WFC\n",
              "2344025   Nikkei down 1 4 pct on economy fears  autos drop  2008-10-02  KYOCY\n",
              "\n",
              "[2344026 rows x 3 columns]"
            ]
          },
          "metadata": {
            "tags": []
          },
          "execution_count": 27
        }
      ]
    },
    {
      "cell_type": "code",
      "metadata": {
        "id": "7MmvXPYis96X"
      },
      "source": [
        "# data"
      ],
      "execution_count": null,
      "outputs": []
    },
    {
      "cell_type": "code",
      "metadata": {
        "id": "LepUDMq_QGfH"
      },
      "source": [
        "date_list = data['date'].unique()"
      ],
      "execution_count": 29,
      "outputs": []
    },
    {
      "cell_type": "code",
      "metadata": {
        "id": "QattTOXpQGhb"
      },
      "source": [
        "num_date = len(date_list)"
      ],
      "execution_count": 30,
      "outputs": []
    },
    {
      "cell_type": "code",
      "metadata": {
        "colab": {
          "base_uri": "https://localhost:8080/"
        },
        "id": "vBE7PGBxdsFq",
        "outputId": "8d433428-1b17-466e-badf-d2c6872c831f"
      },
      "source": [
        "num_date"
      ],
      "execution_count": 31,
      "outputs": [
        {
          "output_type": "execute_result",
          "data": {
            "text/plain": [
              "4423"
            ]
          },
          "metadata": {
            "tags": []
          },
          "execution_count": 31
        }
      ]
    },
    {
      "cell_type": "code",
      "metadata": {
        "id": "hqS0OltDSO91"
      },
      "source": [
        "# dat1 = data1.loc[data1['ticker'].isin(intersect_12)]\n",
        "list_date = data['date'].values.tolist()\n",
        "result_data_date = dict(zip(*np.unique(list_date, return_counts=True)))\n",
        "# result_data1_sorted = sorted(result_data1.items(),key = lambda x: x[1])"
      ],
      "execution_count": 32,
      "outputs": []
    },
    {
      "cell_type": "code",
      "metadata": {
        "colab": {
          "base_uri": "https://localhost:8080/"
        },
        "id": "f69hTLyNTcft",
        "outputId": "47c7d0f3-5d73-4880-d63f-1894506c05d8"
      },
      "source": [
        "result_data_date"
      ],
      "execution_count": 33,
      "outputs": [
        {
          "output_type": "execute_result",
          "data": {
            "text/plain": [
              "{'2008-10-02': 1,\n",
              " '2008-10-03': 4,\n",
              " '2008-10-06': 2,\n",
              " '2008-10-07': 2,\n",
              " '2008-10-08': 1,\n",
              " '2008-10-09': 3,\n",
              " '2008-10-10': 1,\n",
              " '2008-10-15': 4,\n",
              " '2008-10-16': 1,\n",
              " '2008-10-17': 2,\n",
              " '2008-10-21': 2,\n",
              " '2008-10-23': 1,\n",
              " '2008-10-27': 2,\n",
              " '2008-10-29': 20,\n",
              " '2008-10-30': 10,\n",
              " '2008-10-31': 7,\n",
              " '2008-11-02': 1,\n",
              " '2008-11-03': 5,\n",
              " '2008-11-04': 8,\n",
              " '2008-11-05': 8,\n",
              " '2008-11-06': 1,\n",
              " '2008-11-07': 1,\n",
              " '2008-11-09': 3,\n",
              " '2008-11-10': 9,\n",
              " '2008-11-11': 6,\n",
              " '2008-11-12': 5,\n",
              " '2008-11-13': 8,\n",
              " '2008-11-14': 8,\n",
              " '2008-11-16': 1,\n",
              " '2008-11-17': 3,\n",
              " '2008-11-18': 8,\n",
              " '2008-11-19': 11,\n",
              " '2008-11-20': 13,\n",
              " '2008-11-21': 6,\n",
              " '2008-11-22': 1,\n",
              " '2008-11-23': 2,\n",
              " '2008-11-24': 16,\n",
              " '2008-11-25': 18,\n",
              " '2008-11-26': 7,\n",
              " '2008-11-27': 8,\n",
              " '2008-11-28': 8,\n",
              " '2008-11-29': 2,\n",
              " '2008-11-30': 3,\n",
              " '2008-12-01': 5,\n",
              " '2008-12-02': 17,\n",
              " '2008-12-03': 12,\n",
              " '2008-12-04': 11,\n",
              " '2008-12-05': 7,\n",
              " '2008-12-07': 1,\n",
              " '2008-12-08': 7,\n",
              " '2008-12-09': 15,\n",
              " '2008-12-10': 9,\n",
              " '2008-12-11': 13,\n",
              " '2008-12-12': 11,\n",
              " '2008-12-13': 2,\n",
              " '2008-12-14': 4,\n",
              " '2008-12-15': 8,\n",
              " '2008-12-16': 25,\n",
              " '2008-12-17': 19,\n",
              " '2008-12-18': 12,\n",
              " '2008-12-19': 12,\n",
              " '2008-12-20': 1,\n",
              " '2008-12-21': 6,\n",
              " '2008-12-22': 13,\n",
              " '2008-12-23': 6,\n",
              " '2008-12-24': 9,\n",
              " '2008-12-25': 3,\n",
              " '2008-12-26': 2,\n",
              " '2008-12-28': 4,\n",
              " '2008-12-29': 3,\n",
              " '2008-12-30': 4,\n",
              " '2008-12-31': 5,\n",
              " '2009-01-01': 2,\n",
              " '2009-01-02': 5,\n",
              " '2009-01-03': 1,\n",
              " '2009-01-04': 2,\n",
              " '2009-01-05': 13,\n",
              " '2009-01-06': 11,\n",
              " '2009-01-07': 8,\n",
              " '2009-01-08': 13,\n",
              " '2009-01-09': 12,\n",
              " '2009-01-11': 6,\n",
              " '2009-01-12': 7,\n",
              " '2009-01-13': 8,\n",
              " '2009-01-14': 12,\n",
              " '2009-01-15': 20,\n",
              " '2009-01-16': 12,\n",
              " '2009-01-17': 1,\n",
              " '2009-01-18': 2,\n",
              " '2009-01-19': 9,\n",
              " '2009-01-20': 14,\n",
              " '2009-01-21': 13,\n",
              " '2009-01-22': 9,\n",
              " '2009-01-23': 4,\n",
              " '2009-01-24': 3,\n",
              " '2009-01-25': 1,\n",
              " '2009-01-26': 8,\n",
              " '2009-01-27': 12,\n",
              " '2009-01-28': 9,\n",
              " '2009-01-29': 5,\n",
              " '2009-01-30': 12,\n",
              " '2009-01-31': 2,\n",
              " '2009-02-01': 5,\n",
              " '2009-02-02': 12,\n",
              " '2009-02-03': 10,\n",
              " '2009-02-04': 6,\n",
              " '2009-02-05': 11,\n",
              " '2009-02-06': 16,\n",
              " '2009-02-08': 5,\n",
              " '2009-02-09': 13,\n",
              " '2009-02-10': 7,\n",
              " '2009-02-11': 11,\n",
              " '2009-02-12': 6,\n",
              " '2009-02-13': 8,\n",
              " '2009-02-14': 2,\n",
              " '2009-02-16': 7,\n",
              " '2009-02-17': 2,\n",
              " '2009-02-19': 2,\n",
              " '2009-02-20': 5,\n",
              " '2009-02-22': 1,\n",
              " '2009-02-23': 7,\n",
              " '2009-02-24': 11,\n",
              " '2009-02-25': 7,\n",
              " '2009-02-26': 7,\n",
              " '2009-02-27': 7,\n",
              " '2009-02-28': 2,\n",
              " '2009-03-01': 4,\n",
              " '2009-03-02': 12,\n",
              " '2009-03-03': 11,\n",
              " '2009-03-04': 5,\n",
              " '2009-03-05': 11,\n",
              " '2009-03-06': 11,\n",
              " '2009-03-08': 4,\n",
              " '2009-03-09': 7,\n",
              " '2009-03-10': 14,\n",
              " '2009-03-11': 11,\n",
              " '2009-03-12': 10,\n",
              " '2009-03-13': 8,\n",
              " '2009-03-14': 5,\n",
              " '2009-03-15': 3,\n",
              " '2009-03-16': 11,\n",
              " '2009-03-17': 10,\n",
              " '2009-03-18': 11,\n",
              " '2009-03-19': 11,\n",
              " '2009-03-20': 7,\n",
              " '2009-03-22': 3,\n",
              " '2009-03-23': 7,\n",
              " '2009-03-24': 11,\n",
              " '2009-03-25': 9,\n",
              " '2009-03-26': 9,\n",
              " '2009-03-27': 8,\n",
              " '2009-03-29': 1,\n",
              " '2009-03-30': 9,\n",
              " '2009-03-31': 5,\n",
              " '2009-04-01': 8,\n",
              " '2009-04-02': 5,\n",
              " '2009-04-03': 6,\n",
              " '2009-04-05': 1,\n",
              " '2009-04-06': 5,\n",
              " '2009-04-07': 15,\n",
              " '2009-04-08': 14,\n",
              " '2009-04-09': 15,\n",
              " '2009-04-10': 4,\n",
              " '2009-04-13': 3,\n",
              " '2009-04-14': 8,\n",
              " '2009-04-15': 11,\n",
              " '2009-04-16': 11,\n",
              " '2009-04-17': 6,\n",
              " '2009-04-18': 3,\n",
              " '2009-04-19': 3,\n",
              " '2009-04-20': 17,\n",
              " '2009-04-21': 16,\n",
              " '2009-04-22': 10,\n",
              " '2009-04-23': 7,\n",
              " '2009-04-24': 5,\n",
              " '2009-04-26': 2,\n",
              " '2009-04-27': 8,\n",
              " '2009-04-28': 8,\n",
              " '2009-04-29': 10,\n",
              " '2009-04-30': 5,\n",
              " '2009-05-01': 3,\n",
              " '2009-05-02': 2,\n",
              " '2009-05-04': 12,\n",
              " '2009-05-05': 6,\n",
              " '2009-05-06': 17,\n",
              " '2009-05-07': 13,\n",
              " '2009-05-08': 5,\n",
              " '2009-05-10': 4,\n",
              " '2009-05-11': 12,\n",
              " '2009-05-12': 10,\n",
              " '2009-05-13': 7,\n",
              " '2009-05-14': 13,\n",
              " '2009-05-15': 8,\n",
              " '2009-05-16': 1,\n",
              " '2009-05-17': 3,\n",
              " '2009-05-18': 3,\n",
              " '2009-05-19': 10,\n",
              " '2009-05-20': 13,\n",
              " '2009-05-21': 4,\n",
              " '2009-05-22': 5,\n",
              " '2009-05-24': 1,\n",
              " '2009-05-25': 1,\n",
              " '2009-05-26': 11,\n",
              " '2009-05-27': 13,\n",
              " '2009-05-28': 8,\n",
              " '2009-05-29': 9,\n",
              " '2009-05-30': 3,\n",
              " '2009-05-31': 1,\n",
              " '2009-06-01': 11,\n",
              " '2009-06-02': 9,\n",
              " '2009-06-03': 7,\n",
              " '2009-06-04': 9,\n",
              " '2009-06-05': 4,\n",
              " '2009-06-06': 4,\n",
              " '2009-06-07': 13,\n",
              " '2009-06-08': 33,\n",
              " '2009-06-09': 37,\n",
              " '2009-06-11': 30,\n",
              " '2009-06-12': 29,\n",
              " '2009-06-14': 5,\n",
              " '2009-06-15': 30,\n",
              " '2009-06-16': 43,\n",
              " '2009-06-17': 37,\n",
              " '2009-06-18': 33,\n",
              " '2009-06-19': 35,\n",
              " '2009-06-21': 6,\n",
              " '2009-06-22': 29,\n",
              " '2009-06-23': 22,\n",
              " '2009-06-24': 23,\n",
              " '2009-06-25': 36,\n",
              " '2009-06-26': 21,\n",
              " '2009-06-28': 6,\n",
              " '2009-06-29': 27,\n",
              " '2009-06-30': 33,\n",
              " '2009-07-01': 41,\n",
              " '2009-07-02': 25,\n",
              " '2009-07-03': 16,\n",
              " '2009-07-06': 32,\n",
              " '2009-07-07': 35,\n",
              " '2009-07-08': 47,\n",
              " '2009-07-09': 49,\n",
              " '2009-07-10': 33,\n",
              " '2009-07-12': 6,\n",
              " '2009-07-13': 42,\n",
              " '2009-07-14': 43,\n",
              " '2009-07-15': 59,\n",
              " '2009-07-16': 41,\n",
              " '2009-07-17': 46,\n",
              " '2009-07-19': 2,\n",
              " '2009-07-20': 32,\n",
              " '2009-07-21': 54,\n",
              " '2009-07-22': 48,\n",
              " '2009-07-23': 45,\n",
              " '2009-07-24': 37,\n",
              " '2009-07-26': 4,\n",
              " '2009-07-27': 87,\n",
              " '2009-07-28': 33,\n",
              " '2009-07-29': 9,\n",
              " '2009-07-30': 3,\n",
              " '2009-08-01': 1,\n",
              " '2009-08-02': 6,\n",
              " '2009-08-03': 25,\n",
              " '2009-08-04': 45,\n",
              " '2009-08-05': 25,\n",
              " '2009-08-06': 68,\n",
              " '2009-08-07': 670,\n",
              " '2009-08-08': 7,\n",
              " '2009-08-09': 26,\n",
              " '2009-08-10': 1166,\n",
              " '2009-08-11': 73,\n",
              " '2009-08-12': 552,\n",
              " '2009-08-13': 1002,\n",
              " '2009-08-14': 773,\n",
              " '2009-08-15': 13,\n",
              " '2009-08-16': 114,\n",
              " '2009-08-17': 1132,\n",
              " '2009-08-18': 907,\n",
              " '2009-08-19': 47,\n",
              " '2009-08-20': 34,\n",
              " '2009-08-21': 20,\n",
              " '2009-08-22': 4,\n",
              " '2009-08-23': 7,\n",
              " '2009-08-24': 39,\n",
              " '2009-08-25': 71,\n",
              " '2009-08-26': 60,\n",
              " '2009-08-27': 103,\n",
              " '2009-08-28': 88,\n",
              " '2009-08-29': 12,\n",
              " '2009-08-30': 17,\n",
              " '2009-08-31': 68,\n",
              " '2009-09-01': 63,\n",
              " '2009-09-02': 63,\n",
              " '2009-09-03': 85,\n",
              " '2009-09-04': 30,\n",
              " '2009-09-05': 6,\n",
              " '2009-09-06': 7,\n",
              " '2009-09-07': 52,\n",
              " '2009-09-08': 114,\n",
              " '2009-09-09': 84,\n",
              " '2009-09-10': 104,\n",
              " '2009-09-11': 79,\n",
              " '2009-09-12': 8,\n",
              " '2009-09-13': 30,\n",
              " '2009-09-14': 99,\n",
              " '2009-09-15': 103,\n",
              " '2009-09-16': 90,\n",
              " '2009-09-17': 71,\n",
              " '2009-09-18': 61,\n",
              " '2009-09-20': 3,\n",
              " '2009-09-21': 70,\n",
              " '2009-09-22': 71,\n",
              " '2009-09-23': 71,\n",
              " '2009-09-24': 66,\n",
              " '2009-09-25': 45,\n",
              " '2009-09-26': 1,\n",
              " '2009-09-27': 13,\n",
              " '2009-09-28': 66,\n",
              " '2009-09-29': 75,\n",
              " '2009-09-30': 64,\n",
              " '2009-10-01': 69,\n",
              " '2009-10-02': 51,\n",
              " '2009-10-03': 1,\n",
              " '2009-10-04': 9,\n",
              " '2009-10-05': 76,\n",
              " '2009-10-06': 77,\n",
              " '2009-10-07': 65,\n",
              " '2009-10-08': 73,\n",
              " '2009-10-09': 31,\n",
              " '2009-10-11': 8,\n",
              " '2009-10-12': 77,\n",
              " '2009-10-13': 82,\n",
              " '2009-10-14': 85,\n",
              " '2009-10-15': 93,\n",
              " '2009-10-16': 53,\n",
              " '2009-10-18': 27,\n",
              " '2009-10-19': 109,\n",
              " '2009-10-20': 102,\n",
              " '2009-10-21': 98,\n",
              " '2009-10-22': 113,\n",
              " '2009-10-23': 104,\n",
              " '2009-10-24': 11,\n",
              " '2009-10-25': 5,\n",
              " '2009-10-26': 135,\n",
              " '2009-10-27': 146,\n",
              " '2009-10-28': 149,\n",
              " '2009-10-29': 154,\n",
              " '2009-10-30': 118,\n",
              " '2009-10-31': 2,\n",
              " '2009-11-01': 3,\n",
              " '2009-11-02': 104,\n",
              " '2009-11-03': 85,\n",
              " '2009-11-04': 116,\n",
              " '2009-11-05': 107,\n",
              " '2009-11-06': 81,\n",
              " '2009-11-07': 1,\n",
              " '2009-11-08': 2,\n",
              " '2009-11-09': 101,\n",
              " '2009-11-10': 109,\n",
              " '2009-11-11': 128,\n",
              " '2009-11-12': 137,\n",
              " '2009-11-13': 104,\n",
              " '2009-11-14': 2,\n",
              " '2009-11-15': 2,\n",
              " '2009-11-16': 102,\n",
              " '2009-11-17': 116,\n",
              " '2009-11-18': 132,\n",
              " '2009-11-19': 131,\n",
              " '2009-11-20': 90,\n",
              " '2009-11-21': 7,\n",
              " '2009-11-22': 4,\n",
              " '2009-11-23': 139,\n",
              " '2009-11-24': 142,\n",
              " '2009-11-25': 106,\n",
              " '2009-11-26': 7,\n",
              " '2009-11-27': 86,\n",
              " '2009-11-28': 7,\n",
              " '2009-11-29': 11,\n",
              " '2009-11-30': 109,\n",
              " '2009-12-01': 108,\n",
              " '2009-12-02': 126,\n",
              " '2009-12-03': 99,\n",
              " '2009-12-04': 159,\n",
              " '2009-12-05': 1,\n",
              " '2009-12-06': 15,\n",
              " '2009-12-07': 161,\n",
              " '2009-12-08': 158,\n",
              " '2009-12-09': 166,\n",
              " '2009-12-10': 163,\n",
              " '2009-12-11': 119,\n",
              " '2009-12-12': 9,\n",
              " '2009-12-13': 5,\n",
              " '2009-12-14': 186,\n",
              " '2009-12-15': 160,\n",
              " '2009-12-16': 151,\n",
              " '2009-12-17': 134,\n",
              " '2009-12-18': 123,\n",
              " '2009-12-19': 2,\n",
              " '2009-12-20': 8,\n",
              " '2009-12-21': 190,\n",
              " '2009-12-22': 189,\n",
              " '2009-12-23': 163,\n",
              " '2009-12-24': 66,\n",
              " '2009-12-28': 117,\n",
              " '2009-12-29': 97,\n",
              " '2009-12-30': 110,\n",
              " '2009-12-31': 108,\n",
              " '2010-01-01': 5,\n",
              " '2010-01-02': 4,\n",
              " '2010-01-03': 9,\n",
              " '2010-01-04': 160,\n",
              " '2010-01-05': 206,\n",
              " '2010-01-06': 172,\n",
              " '2010-01-07': 225,\n",
              " '2010-01-08': 203,\n",
              " '2010-01-09': 5,\n",
              " '2010-01-10': 2,\n",
              " '2010-01-11': 209,\n",
              " '2010-01-12': 208,\n",
              " '2010-01-13': 162,\n",
              " '2010-01-14': 192,\n",
              " '2010-01-15': 173,\n",
              " '2010-01-16': 24,\n",
              " '2010-01-17': 13,\n",
              " '2010-01-18': 47,\n",
              " '2010-01-19': 164,\n",
              " '2010-01-20': 190,\n",
              " '2010-01-21': 181,\n",
              " '2010-01-22': 193,\n",
              " '2010-01-23': 12,\n",
              " '2010-01-24': 1,\n",
              " '2010-01-25': 236,\n",
              " '2010-01-26': 183,\n",
              " '2010-01-27': 200,\n",
              " '2010-01-28': 184,\n",
              " '2010-01-29': 164,\n",
              " '2010-01-30': 6,\n",
              " '2010-01-31': 8,\n",
              " '2010-02-01': 194,\n",
              " '2010-02-02': 265,\n",
              " '2010-02-03': 205,\n",
              " '2010-02-04': 220,\n",
              " '2010-02-05': 184,\n",
              " '2010-02-06': 8,\n",
              " '2010-02-07': 7,\n",
              " '2010-02-08': 172,\n",
              " '2010-02-09': 235,\n",
              " '2010-02-10': 206,\n",
              " '2010-02-11': 201,\n",
              " '2010-02-12': 212,\n",
              " '2010-02-13': 14,\n",
              " '2010-02-14': 12,\n",
              " '2010-02-15': 62,\n",
              " '2010-02-16': 211,\n",
              " '2010-02-17': 226,\n",
              " '2010-02-18': 172,\n",
              " '2010-02-19': 176,\n",
              " '2010-02-20': 7,\n",
              " '2010-02-21': 10,\n",
              " '2010-02-22': 263,\n",
              " '2010-02-23': 231,\n",
              " '2010-02-24': 228,\n",
              " '2010-02-25': 203,\n",
              " '2010-02-26': 177,\n",
              " '2010-02-27': 15,\n",
              " '2010-02-28': 17,\n",
              " '2010-03-01': 157,\n",
              " '2010-03-02': 171,\n",
              " '2010-03-03': 197,\n",
              " '2010-03-04': 186,\n",
              " '2010-03-05': 175,\n",
              " '2010-03-06': 24,\n",
              " '2010-03-07': 19,\n",
              " '2010-03-08': 200,\n",
              " '2010-03-09': 175,\n",
              " '2010-03-10': 188,\n",
              " '2010-03-11': 207,\n",
              " '2010-03-12': 169,\n",
              " '2010-03-13': 8,\n",
              " '2010-03-14': 11,\n",
              " '2010-03-15': 199,\n",
              " '2010-03-16': 199,\n",
              " '2010-03-17': 231,\n",
              " '2010-03-18': 182,\n",
              " '2010-03-19': 161,\n",
              " '2010-03-20': 11,\n",
              " '2010-03-21': 109,\n",
              " '2010-03-22': 231,\n",
              " '2010-03-23': 234,\n",
              " '2010-03-24': 185,\n",
              " '2010-03-25': 293,\n",
              " '2010-03-26': 151,\n",
              " '2010-03-27': 2,\n",
              " '2010-03-28': 10,\n",
              " '2010-03-29': 293,\n",
              " '2010-03-30': 173,\n",
              " '2010-03-31': 187,\n",
              " '2010-04-01': 232,\n",
              " '2010-04-02': 49,\n",
              " '2010-04-03': 8,\n",
              " '2010-04-04': 20,\n",
              " '2010-04-05': 219,\n",
              " '2010-04-06': 205,\n",
              " '2010-04-07': 173,\n",
              " '2010-04-08': 201,\n",
              " '2010-04-09': 129,\n",
              " '2010-04-10': 7,\n",
              " '2010-04-11': 13,\n",
              " '2010-04-12': 133,\n",
              " '2010-04-13': 189,\n",
              " '2010-04-14': 205,\n",
              " '2010-04-15': 150,\n",
              " '2010-04-16': 117,\n",
              " '2010-04-17': 12,\n",
              " '2010-04-18': 8,\n",
              " '2010-04-19': 186,\n",
              " '2010-04-20': 191,\n",
              " '2010-04-21': 220,\n",
              " '2010-04-22': 176,\n",
              " '2010-04-23': 206,\n",
              " '2010-04-24': 10,\n",
              " '2010-04-25': 2,\n",
              " '2010-04-26': 202,\n",
              " '2010-04-27': 188,\n",
              " '2010-04-28': 174,\n",
              " '2010-04-29': 176,\n",
              " '2010-04-30': 154,\n",
              " '2010-05-01': 5,\n",
              " '2010-05-02': 27,\n",
              " '2010-05-03': 191,\n",
              " '2010-05-04': 217,\n",
              " '2010-05-05': 193,\n",
              " '2010-05-06': 226,\n",
              " '2010-05-07': 153,\n",
              " '2010-05-08': 9,\n",
              " '2010-05-09': 9,\n",
              " '2010-05-10': 214,\n",
              " '2010-05-11': 616,\n",
              " '2010-05-12': 283,\n",
              " '2010-05-13': 220,\n",
              " '2010-05-14': 241,\n",
              " '2010-05-15': 10,\n",
              " '2010-05-16': 7,\n",
              " '2010-05-17': 299,\n",
              " '2010-05-18': 256,\n",
              " '2010-05-19': 247,\n",
              " '2010-05-20': 248,\n",
              " '2010-05-21': 180,\n",
              " '2010-05-22': 2,\n",
              " '2010-05-23': 10,\n",
              " '2010-05-24': 239,\n",
              " '2010-05-25': 228,\n",
              " '2010-05-26': 259,\n",
              " '2010-05-27': 233,\n",
              " '2010-05-28': 182,\n",
              " '2010-05-29': 7,\n",
              " '2010-05-30': 10,\n",
              " '2010-05-31': 33,\n",
              " '2010-06-01': 262,\n",
              " '2010-06-02': 251,\n",
              " '2010-06-03': 225,\n",
              " '2010-06-04': 210,\n",
              " '2010-06-05': 15,\n",
              " '2010-06-06': 8,\n",
              " '2010-06-07': 204,\n",
              " '2010-06-08': 255,\n",
              " '2010-06-09': 251,\n",
              " '2010-06-10': 203,\n",
              " '2010-06-11': 139,\n",
              " '2010-06-12': 15,\n",
              " '2010-06-13': 33,\n",
              " '2010-06-14': 210,\n",
              " '2010-06-15': 181,\n",
              " '2010-06-16': 185,\n",
              " '2010-06-17': 225,\n",
              " '2010-06-18': 179,\n",
              " '2010-06-19': 25,\n",
              " '2010-06-20': 16,\n",
              " '2010-06-21': 201,\n",
              " '2010-06-22': 194,\n",
              " '2010-06-23': 186,\n",
              " '2010-06-24': 236,\n",
              " '2010-06-25': 144,\n",
              " '2010-06-26': 20,\n",
              " '2010-06-27': 14,\n",
              " '2010-06-28': 251,\n",
              " '2010-06-29': 166,\n",
              " '2010-06-30': 187,\n",
              " '2010-07-01': 164,\n",
              " '2010-07-02': 142,\n",
              " '2010-07-03': 9,\n",
              " '2010-07-04': 6,\n",
              " '2010-07-05': 7,\n",
              " '2010-07-06': 198,\n",
              " '2010-07-07': 192,\n",
              " '2010-07-08': 203,\n",
              " '2010-07-09': 151,\n",
              " '2010-07-10': 1,\n",
              " '2010-07-11': 15,\n",
              " '2010-07-12': 192,\n",
              " '2010-07-13': 237,\n",
              " '2010-07-14': 212,\n",
              " '2010-07-15': 240,\n",
              " '2010-07-16': 196,\n",
              " '2010-07-17': 6,\n",
              " '2010-07-18': 34,\n",
              " '2010-07-19': 285,\n",
              " '2010-07-20': 318,\n",
              " '2010-07-21': 281,\n",
              " '2010-07-22': 314,\n",
              " '2010-07-23': 205,\n",
              " '2010-07-24': 22,\n",
              " '2010-07-25': 43,\n",
              " '2010-07-26': 261,\n",
              " '2010-07-27': 297,\n",
              " '2010-07-28': 310,\n",
              " '2010-07-29': 290,\n",
              " '2010-07-30': 260,\n",
              " '2010-07-31': 16,\n",
              " '2010-08-01': 8,\n",
              " '2010-08-02': 333,\n",
              " '2010-08-03': 377,\n",
              " '2010-08-04': 446,\n",
              " '2010-08-05': 398,\n",
              " '2010-08-06': 273,\n",
              " '2010-08-07': 4,\n",
              " '2010-08-08': 11,\n",
              " '2010-08-09': 360,\n",
              " '2010-08-10': 237,\n",
              " '2010-08-11': 305,\n",
              " '2010-08-12': 331,\n",
              " '2010-08-13': 250,\n",
              " '2010-08-14': 4,\n",
              " '2010-08-15': 19,\n",
              " '2010-08-16': 305,\n",
              " '2010-08-17': 507,\n",
              " '2010-08-18': 428,\n",
              " '2010-08-19': 391,\n",
              " '2010-08-20': 263,\n",
              " '2010-08-21': 21,\n",
              " '2010-08-22': 31,\n",
              " '2010-08-23': 305,\n",
              " '2010-08-24': 246,\n",
              " '2010-08-25': 299,\n",
              " '2010-08-26': 327,\n",
              " '2010-08-27': 253,\n",
              " '2010-08-28': 4,\n",
              " '2010-08-29': 27,\n",
              " '2010-08-30': 337,\n",
              " '2010-08-31': 398,\n",
              " '2010-09-01': 361,\n",
              " '2010-09-02': 366,\n",
              " '2010-09-03': 310,\n",
              " '2010-09-04': 7,\n",
              " '2010-09-05': 4,\n",
              " '2010-09-06': 22,\n",
              " '2010-09-07': 462,\n",
              " '2010-09-08': 505,\n",
              " '2010-09-09': 379,\n",
              " '2010-09-10': 399,\n",
              " '2010-09-11': 10,\n",
              " '2010-09-12': 15,\n",
              " '2010-09-13': 388,\n",
              " '2010-09-14': 436,\n",
              " '2010-09-15': 356,\n",
              " '2010-09-16': 442,\n",
              " '2010-09-17': 343,\n",
              " '2010-09-18': 7,\n",
              " '2010-09-19': 34,\n",
              " '2010-09-20': 378,\n",
              " '2010-09-21': 464,\n",
              " '2010-09-22': 412,\n",
              " '2010-09-23': 351,\n",
              " '2010-09-24': 298,\n",
              " '2010-09-25': 14,\n",
              " '2010-09-26': 18,\n",
              " '2010-09-27': 339,\n",
              " '2010-09-28': 335,\n",
              " '2010-09-29': 321,\n",
              " '2010-09-30': 341,\n",
              " '2010-10-01': 265,\n",
              " '2010-10-02': 15,\n",
              " '2010-10-03': 8,\n",
              " '2010-10-04': 377,\n",
              " '2010-10-05': 356,\n",
              " '2010-10-06': 411,\n",
              " '2010-10-07': 357,\n",
              " '2010-10-08': 259,\n",
              " '2010-10-09': 1,\n",
              " '2010-10-10': 14,\n",
              " '2010-10-11': 319,\n",
              " '2010-10-12': 319,\n",
              " '2010-10-13': 327,\n",
              " '2010-10-14': 329,\n",
              " '2010-10-15': 239,\n",
              " '2010-10-16': 2,\n",
              " '2010-10-17': 15,\n",
              " '2010-10-18': 490,\n",
              " '2010-10-19': 525,\n",
              " '2010-10-20': 473,\n",
              " '2010-10-21': 480,\n",
              " '2010-10-22': 345,\n",
              " '2010-10-23': 1,\n",
              " '2010-10-24': 13,\n",
              " '2010-10-25': 477,\n",
              " '2010-10-26': 471,\n",
              " '2010-10-27': 652,\n",
              " '2010-10-28': 585,\n",
              " '2010-10-29': 412,\n",
              " '2010-10-31': 11,\n",
              " '2010-11-01': 401,\n",
              " '2010-11-02': 642,\n",
              " '2010-11-03': 518,\n",
              " '2010-11-04': 648,\n",
              " '2010-11-05': 346,\n",
              " '2010-11-06': 9,\n",
              " '2010-11-07': 10,\n",
              " '2010-11-08': 488,\n",
              " '2010-11-09': 543,\n",
              " '2010-11-10': 470,\n",
              " '2010-11-11': 473,\n",
              " '2010-11-12': 357,\n",
              " '2010-11-13': 10,\n",
              " '2010-11-14': 13,\n",
              " '2010-11-15': 506,\n",
              " '2010-11-16': 492,\n",
              " '2010-11-17': 559,\n",
              " '2010-11-18': 797,\n",
              " '2010-11-19': 586,\n",
              " '2010-11-20': 21,\n",
              " '2010-11-21': 44,\n",
              " '2010-11-22': 751,\n",
              " '2010-11-23': 736,\n",
              " '2010-11-24': 558,\n",
              " '2010-11-25': 24,\n",
              " '2010-11-26': 293,\n",
              " '2010-11-27': 26,\n",
              " '2010-11-28': 19,\n",
              " '2010-11-29': 566,\n",
              " '2010-11-30': 679,\n",
              " '2010-12-01': 644,\n",
              " '2010-12-02': 648,\n",
              " '2010-12-03': 581,\n",
              " '2010-12-04': 9,\n",
              " '2010-12-05': 33,\n",
              " '2010-12-06': 757,\n",
              " '2010-12-07': 646,\n",
              " '2010-12-08': 712,\n",
              " '2010-12-09': 757,\n",
              " '2010-12-10': 647,\n",
              " '2010-12-11': 23,\n",
              " '2010-12-12': 18,\n",
              " '2010-12-13': 709,\n",
              " '2010-12-14': 669,\n",
              " '2010-12-15': 733,\n",
              " '2010-12-16': 759,\n",
              " '2010-12-17': 588,\n",
              " '2010-12-18': 34,\n",
              " '2010-12-19': 17,\n",
              " '2010-12-20': 730,\n",
              " '2010-12-21': 746,\n",
              " '2010-12-22': 739,\n",
              " '2010-12-23': 570,\n",
              " '2010-12-24': 17,\n",
              " '2010-12-25': 5,\n",
              " '2010-12-26': 23,\n",
              " '2010-12-27': 479,\n",
              " '2010-12-28': 478,\n",
              " '2010-12-29': 599,\n",
              " '2010-12-30': 550,\n",
              " '2010-12-31': 275,\n",
              " '2011-01-01': 165,\n",
              " '2011-01-02': 96,\n",
              " '2011-01-03': 848,\n",
              " '2011-01-04': 903,\n",
              " '2011-01-05': 969,\n",
              " '2011-01-06': 1088,\n",
              " '2011-01-07': 1005,\n",
              " '2011-01-08': 247,\n",
              " '2011-01-09': 137,\n",
              " '2011-01-10': 1057,\n",
              " '2011-01-11': 1072,\n",
              " '2011-01-12': 974,\n",
              " '2011-01-13': 1058,\n",
              " '2011-01-14': 1019,\n",
              " '2011-01-15': 220,\n",
              " '2011-01-16': 106,\n",
              " '2011-01-17': 421,\n",
              " '2011-01-18': 1079,\n",
              " '2011-01-19': 1013,\n",
              " '2011-01-20': 1204,\n",
              " '2011-01-21': 945,\n",
              " '2011-01-22': 202,\n",
              " '2011-01-23': 134,\n",
              " '2011-01-24': 930,\n",
              " '2011-01-25': 1052,\n",
              " '2011-01-26': 1009,\n",
              " '2011-01-27': 1069,\n",
              " '2011-01-28': 1029,\n",
              " '2011-01-29': 197,\n",
              " '2011-01-30': 155,\n",
              " '2011-01-31': 943,\n",
              " '2011-02-01': 863,\n",
              " '2011-02-02': 920,\n",
              " '2011-02-03': 1096,\n",
              " '2011-02-04': 733,\n",
              " '2011-02-05': 202,\n",
              " '2011-02-06': 111,\n",
              " '2011-02-07': 691,\n",
              " '2011-02-08': 663,\n",
              " '2011-02-09': 741,\n",
              " '2011-02-10': 729,\n",
              " '2011-02-11': 751,\n",
              " '2011-02-12': 224,\n",
              " '2011-02-13': 107,\n",
              " '2011-02-14': 747,\n",
              " '2011-02-15': 743,\n",
              " '2011-02-16': 759,\n",
              " '2011-02-17': 837,\n",
              " '2011-02-18': 697,\n",
              " '2011-02-19': 220,\n",
              " '2011-02-20': 126,\n",
              " '2011-02-21': 239,\n",
              " '2011-02-22': 643,\n",
              " '2011-02-23': 699,\n",
              " '2011-02-24': 730,\n",
              " '2011-02-25': 611,\n",
              " '2011-02-26': 201,\n",
              " '2011-02-27': 142,\n",
              " '2011-02-28': 648,\n",
              " '2011-03-01': 646,\n",
              " '2011-03-02': 618,\n",
              " '2011-03-03': 757,\n",
              " '2011-03-04': 683,\n",
              " '2011-03-05': 206,\n",
              " '2011-03-06': 140,\n",
              " '2011-03-07': 655,\n",
              " '2011-03-08': 680,\n",
              " '2011-03-09': 669,\n",
              " '2011-03-10': 731,\n",
              " '2011-03-11': 689,\n",
              " '2011-03-12': 269,\n",
              " '2011-03-13': 148,\n",
              " '2011-03-14': 610,\n",
              " '2011-03-15': 673,\n",
              " '2011-03-16': 701,\n",
              " '2011-03-17': 705,\n",
              " '2011-03-18': 794,\n",
              " '2011-03-19': 225,\n",
              " '2011-03-20': 144,\n",
              " '2011-03-21': 636,\n",
              " '2011-03-22': 699,\n",
              " '2011-03-23': 723,\n",
              " '2011-03-24': 690,\n",
              " '2011-03-25': 767,\n",
              " '2011-03-26': 220,\n",
              " '2011-03-27': 124,\n",
              " '2011-03-28': 710,\n",
              " '2011-03-29': 707,\n",
              " '2011-03-30': 764,\n",
              " '2011-03-31': 787,\n",
              " '2011-04-01': 869,\n",
              " '2011-04-02': 208,\n",
              " '2011-04-03': 121,\n",
              " '2011-04-04': 791,\n",
              " '2011-04-05': 797,\n",
              " '2011-04-06': 748,\n",
              " '2011-04-07': 804,\n",
              " '2011-04-08': 767,\n",
              " '2011-04-09': 209,\n",
              " '2011-04-10': 106,\n",
              " '2011-04-11': 780,\n",
              " '2011-04-12': 752,\n",
              " '2011-04-13': 794,\n",
              " '2011-04-14': 798,\n",
              " '2011-04-15': 770,\n",
              " '2011-04-16': 228,\n",
              " '2011-04-17': 127,\n",
              " '2011-04-18': 710,\n",
              " '2011-04-19': 758,\n",
              " '2011-04-20': 915,\n",
              " '2011-04-21': 915,\n",
              " '2011-04-22': 378,\n",
              " '2011-04-23': 188,\n",
              " '2011-04-24': 133,\n",
              " '2011-04-25': 910,\n",
              " '2011-04-26': 1159,\n",
              " '2011-04-27': 1062,\n",
              " '2011-04-28': 1144,\n",
              " '2011-04-29': 1154,\n",
              " '2011-04-30': 230,\n",
              " '2011-05-01': 136,\n",
              " '2011-05-02': 1345,\n",
              " '2011-05-03': 943,\n",
              " '2011-05-04': 1057,\n",
              " '2011-05-05': 996,\n",
              " '2011-05-06': 923,\n",
              " '2011-05-07': 223,\n",
              " '2011-05-08': 185,\n",
              " '2011-05-09': 987,\n",
              " '2011-05-10': 868,\n",
              " '2011-05-11': 863,\n",
              " '2011-05-12': 763,\n",
              " '2011-05-13': 928,\n",
              " '2011-05-14': 250,\n",
              " '2011-05-15': 156,\n",
              " '2011-05-16': 844,\n",
              " '2011-05-17': 767,\n",
              " '2011-05-18': 847,\n",
              " '2011-05-19': 881,\n",
              " '2011-05-20': 735,\n",
              " '2011-05-21': 225,\n",
              " '2011-05-22': 260,\n",
              " '2011-05-23': 1172,\n",
              " '2011-05-24': 808,\n",
              " '2011-05-25': 790,\n",
              " '2011-05-26': 778,\n",
              " '2011-05-27': 710,\n",
              " '2011-05-28': 237,\n",
              " '2011-05-29': 128,\n",
              " '2011-05-30': 227,\n",
              " '2011-05-31': 774,\n",
              " '2011-06-01': 823,\n",
              " '2011-06-02': 861,\n",
              " '2011-06-03': 808,\n",
              " '2011-06-04': 233,\n",
              " '2011-06-05': 131,\n",
              " '2011-06-06': 753,\n",
              " '2011-06-07': 833,\n",
              " '2011-06-08': 788,\n",
              " '2011-06-09': 860,\n",
              " '2011-06-10': 894,\n",
              " '2011-06-11': 220,\n",
              " '2011-06-12': 109,\n",
              " '2011-06-13': 803,\n",
              " '2011-06-14': 814,\n",
              " '2011-06-15': 788,\n",
              " '2011-06-16': 881,\n",
              " '2011-06-17': 814,\n",
              " '2011-06-18': 218,\n",
              " '2011-06-19': 123,\n",
              " '2011-06-20': 881,\n",
              " '2011-06-21': 856,\n",
              " '2011-06-22': 869,\n",
              " '2011-06-23': 905,\n",
              " '2011-06-24': 835,\n",
              " '2011-06-25': 217,\n",
              " '2011-06-26': 123,\n",
              " '2011-06-27': 764,\n",
              " '2011-06-28': 884,\n",
              " '2011-06-29': 934,\n",
              " '2011-06-30': 793,\n",
              " '2011-07-01': 807,\n",
              " '2011-07-02': 238,\n",
              " '2011-07-03': 112,\n",
              " '2011-07-04': 172,\n",
              " '2011-07-05': 787,\n",
              " '2011-07-06': 765,\n",
              " '2011-07-07': 839,\n",
              " '2011-07-08': 853,\n",
              " '2011-07-09': 264,\n",
              " '2011-07-10': 148,\n",
              " '2011-07-11': 743,\n",
              " '2011-07-12': 829,\n",
              " '2011-07-13': 821,\n",
              " '2011-07-14': 849,\n",
              " '2011-07-15': 948,\n",
              " '2011-07-16': 203,\n",
              " '2011-07-17': 183,\n",
              " '2011-07-18': 899,\n",
              " '2011-07-19': 1010,\n",
              " '2011-07-20': 1046,\n",
              " '2011-07-21': 1185,\n",
              " '2011-07-22': 1060,\n",
              " '2011-07-23': 219,\n",
              " '2011-07-24': 181,\n",
              " '2011-07-25': 1045,\n",
              " '2011-07-26': 1049,\n",
              " '2011-07-27': 1128,\n",
              " '2011-07-28': 1344,\n",
              " '2011-07-29': 1061,\n",
              " '2011-07-30': 192,\n",
              " '2011-07-31': 196,\n",
              " '2011-08-01': 1007,\n",
              " '2011-08-02': 958,\n",
              " '2011-08-03': 1126,\n",
              " '2011-08-04': 1012,\n",
              " '2011-08-05': 942,\n",
              " '2011-08-06': 223,\n",
              " '2011-08-07': 121,\n",
              " '2011-08-08': 918,\n",
              " '2011-08-09': 920,\n",
              " '2011-08-10': 878,\n",
              " '2011-08-11': 923,\n",
              " '2011-08-12': 774,\n",
              " '2011-08-13': 205,\n",
              " '2011-08-14': 140,\n",
              " '2011-08-15': 897,\n",
              " '2011-08-16': 763,\n",
              " '2011-08-17': 794,\n",
              " '2011-08-18': 910,\n",
              " ...}"
            ]
          },
          "metadata": {
            "tags": []
          },
          "execution_count": 33
        }
      ]
    },
    {
      "cell_type": "code",
      "metadata": {
        "colab": {
          "base_uri": "https://localhost:8080/",
          "height": 265
        },
        "id": "KWYhXrKJSpHE",
        "outputId": "1c3ff671-3c9c-459a-fb02-61d7b4126aeb"
      },
      "source": [
        "draw_from_dict(result_data_date,num_date)"
      ],
      "execution_count": 34,
      "outputs": [
        {
          "output_type": "display_data",
          "data": {
            "image/png": "[encoded data removed]",
            "text/plain": [
              "<Figure size 432x288 with 1 Axes>"
            ]
          },
          "metadata": {
            "tags": [],
            "needs_background": "light"
          }
        }
      ]
    },
    {
      "cell_type": "markdown",
      "metadata": {
        "id": "rnQTsQF1S8xe"
      },
      "source": [
        "We decide number of each day news <= 20"
      ]
    },
    {
      "cell_type": "code",
      "metadata": {
        "id": "_pYVLM05TPpn"
      },
      "source": [
        ""
      ],
      "execution_count": null,
      "outputs": []
    },
    {
      "cell_type": "code",
      "metadata": {
        "colab": {
          "base_uri": "https://localhost:8080/"
        },
        "id": "7neqplKJTPr1",
        "outputId": "b991a6be-7ec9-4bad-dc4c-66ed4910308c"
      },
      "source": [
        "dates = []\n",
        "for key,value in result_data_date.items():\n",
        "  if value <=20:\n",
        "    dates.append(key)\n",
        "# len(sorted_ticker)\n",
        "len(dates)"
      ],
      "execution_count": 37,
      "outputs": [
        {
          "output_type": "execute_result",
          "data": {
            "text/plain": [
              "346"
            ]
          },
          "metadata": {
            "tags": []
          },
          "execution_count": 37
        }
      ]
    },
    {
      "cell_type": "markdown",
      "metadata": {
        "id": "thal8uwgUUEs"
      },
      "source": [
        ""
      ]
    },
    {
      "cell_type": "code",
      "metadata": {
        "colab": {
          "base_uri": "https://localhost:8080/"
        },
        "id": "2HKmpXM9TPuB",
        "outputId": "c1f03a05-288e-4b49-93b6-8b863dc10e14"
      },
      "source": [
        "tmpData = {}\n",
        "total = data['date'].nunique()\n",
        "for i in tqdm(data['date'].unique()):\n",
        "    headline = data.loc[(data['date'] == i)]['title']\n",
        "    if len(headline)>=20:\n",
        "      tmpData[i] = headline[:20].tolist()\n",
        "    else:\n",
        "      tmpData[i] = headline.tolist()\n"
      ],
      "execution_count": 38,
      "outputs": [
        {
          "output_type": "stream",
          "text": [
            "100%|██████████| 4423/4423 [14:31<00:00,  5.08it/s]\n"
          ],
          "name": "stderr"
        }
      ]
    },
    {
      "cell_type": "code",
      "metadata": {
        "id": "ToYfyGSgSIRv"
      },
      "source": [
        "# list_date_filtered = data['date'].values.tolist()\n",
        "# result_data_date_filtered = dict(zip(*np.unique(tmpData, return_counts=True)))"
      ],
      "execution_count": 40,
      "outputs": []
    },
    {
      "cell_type": "code",
      "metadata": {
        "id": "Xg9sQwmeW_AO"
      },
      "source": [
        "# draw_from_dict(result_data_date,num_date)"
      ],
      "execution_count": null,
      "outputs": []
    },
    {
      "cell_type": "code",
      "metadata": {
        "id": "ftAbzDBUSITz"
      },
      "source": [
        "# df = pd.DataFrame(data=None)\n",
        "# for key,value in filtered_by_date.items():\n",
        "#   df.iloc[key] = value\n",
        "# filtered_by_date"
      ],
      "execution_count": null,
      "outputs": []
    },
    {
      "cell_type": "markdown",
      "metadata": {
        "id": "2xj_b13FiPSf"
      },
      "source": [
        "# **Add label**"
      ]
    },
    {
      "cell_type": "code",
      "metadata": {
        "id": "7ML6IyEgh3sK"
      },
      "source": [
        ""
      ],
      "execution_count": null,
      "outputs": []
    },
    {
      "cell_type": "code",
      "metadata": {
        "id": "JoZs1PjZh5_r"
      },
      "source": [
        "ONE_DAY = datetime.timedelta(days=1)\n",
        "HOLIDAYS_US = holidays.US()\n",
        "def next_business_day(dateString):\n",
        "    datetimeObj = datetime.datetime.strptime(dateString, '%Y-%m-%d')\n",
        "    next_day = datetimeObj + ONE_DAY\n",
        "    while next_day.weekday() in holidays.WEEKEND or next_day in HOLIDAYS_US:\n",
        "        next_day += ONE_DAY\n",
        "    return next_day\n",
        "\n",
        "def prev_business_day(dateString):\n",
        "    datetimeObj = datetime.datetime.strptime(dateString, '%Y-%m-%d')\n",
        "    prev_day = datetimeObj - ONE_DAY\n",
        "    while prev_day.weekday() in holidays.WEEKEND or prev_day in HOLIDAYS_US:\n",
        "        prev_day -= ONE_DAY\n",
        "    return prev_day"
      ],
      "execution_count": 41,
      "outputs": []
    },
    {
      "cell_type": "code",
      "metadata": {
        "id": "g6Pfmayzh8cA"
      },
      "source": [
        "tickerSymbol = \"SPY\"\n",
        "ticker = yf.Ticker(tickerSymbol)\n",
        "hist = ticker.history(period=\"max\")\n"
      ],
      "execution_count": 42,
      "outputs": []
    },
    {
      "cell_type": "code",
      "metadata": {
        "colab": {
          "base_uri": "https://localhost:8080/",
          "height": 447
        },
        "id": "_wTjYxvEiqsO",
        "outputId": "3abf6def-1abf-417b-e52f-6f5f5f39b630"
      },
      "source": [
        "hist"
      ],
      "execution_count": 43,
      "outputs": [
        {
          "output_type": "execute_result",
          "data": {
            "text/html": [
              "<div>\n",
              "<style scoped>\n",
              "    .dataframe tbody tr th:only-of-type {\n",
              "        vertical-align: middle;\n",
              "    }\n",
              "\n",
              "    .dataframe tbody tr th {\n",
              "        vertical-align: top;\n",
              "    }\n",
              "\n",
              "    .dataframe thead th {\n",
              "        text-align: right;\n",
              "    }\n",
              "</style>\n",
              "<table border=\"1\" class=\"dataframe\">\n",
              "  <thead>\n",
              "    <tr style=\"text-align: right;\">\n",
              "      <th></th>\n",
              "      <th>Open</th>\n",
              "      <th>High</th>\n",
              "      <th>Low</th>\n",
              "      <th>Close</th>\n",
              "      <th>Volume</th>\n",
              "      <th>Dividends</th>\n",
              "      <th>Stock Splits</th>\n",
              "    </tr>\n",
              "    <tr>\n",
              "      <th>Date</th>\n",
              "      <th></th>\n",
              "      <th></th>\n",
              "      <th></th>\n",
              "      <th></th>\n",
              "      <th></th>\n",
              "      <th></th>\n",
              "      <th></th>\n",
              "    </tr>\n",
              "  </thead>\n",
              "  <tbody>\n",
              "    <tr>\n",
              "      <th>1993-01-29</th>\n",
              "      <td>25.818120</td>\n",
              "      <td>25.818120</td>\n",
              "      <td>25.689672</td>\n",
              "      <td>25.799770</td>\n",
              "      <td>1003200</td>\n",
              "      <td>0.0</td>\n",
              "      <td>0</td>\n",
              "    </tr>\n",
              "    <tr>\n",
              "      <th>1993-02-01</th>\n",
              "      <td>25.818125</td>\n",
              "      <td>25.983273</td>\n",
              "      <td>25.818125</td>\n",
              "      <td>25.983273</td>\n",
              "      <td>480500</td>\n",
              "      <td>0.0</td>\n",
              "      <td>0</td>\n",
              "    </tr>\n",
              "    <tr>\n",
              "      <th>1993-02-02</th>\n",
              "      <td>25.964916</td>\n",
              "      <td>26.056665</td>\n",
              "      <td>25.909866</td>\n",
              "      <td>26.038315</td>\n",
              "      <td>201300</td>\n",
              "      <td>0.0</td>\n",
              "      <td>0</td>\n",
              "    </tr>\n",
              "    <tr>\n",
              "      <th>1993-02-03</th>\n",
              "      <td>26.075019</td>\n",
              "      <td>26.331916</td>\n",
              "      <td>26.056669</td>\n",
              "      <td>26.313566</td>\n",
              "      <td>529400</td>\n",
              "      <td>0.0</td>\n",
              "      <td>0</td>\n",
              "    </tr>\n",
              "    <tr>\n",
              "      <th>1993-02-04</th>\n",
              "      <td>26.405305</td>\n",
              "      <td>26.478704</td>\n",
              "      <td>26.111709</td>\n",
              "      <td>26.423655</td>\n",
              "      <td>531500</td>\n",
              "      <td>0.0</td>\n",
              "      <td>0</td>\n",
              "    </tr>\n",
              "    <tr>\n",
              "      <th>...</th>\n",
              "      <td>...</td>\n",
              "      <td>...</td>\n",
              "      <td>...</td>\n",
              "      <td>...</td>\n",
              "      <td>...</td>\n",
              "      <td>...</td>\n",
              "      <td>...</td>\n",
              "    </tr>\n",
              "    <tr>\n",
              "      <th>2021-07-29</th>\n",
              "      <td>439.820007</td>\n",
              "      <td>441.799988</td>\n",
              "      <td>439.809998</td>\n",
              "      <td>440.649994</td>\n",
              "      <td>47435300</td>\n",
              "      <td>0.0</td>\n",
              "      <td>0</td>\n",
              "    </tr>\n",
              "    <tr>\n",
              "      <th>2021-07-30</th>\n",
              "      <td>437.910004</td>\n",
              "      <td>440.059998</td>\n",
              "      <td>437.769989</td>\n",
              "      <td>438.510010</td>\n",
              "      <td>68890600</td>\n",
              "      <td>0.0</td>\n",
              "      <td>0</td>\n",
              "    </tr>\n",
              "    <tr>\n",
              "      <th>2021-08-02</th>\n",
              "      <td>440.339996</td>\n",
              "      <td>440.929993</td>\n",
              "      <td>437.209991</td>\n",
              "      <td>437.589996</td>\n",
              "      <td>58783300</td>\n",
              "      <td>0.0</td>\n",
              "      <td>0</td>\n",
              "    </tr>\n",
              "    <tr>\n",
              "      <th>2021-08-03</th>\n",
              "      <td>438.440002</td>\n",
              "      <td>441.279999</td>\n",
              "      <td>436.100006</td>\n",
              "      <td>441.149994</td>\n",
              "      <td>57987900</td>\n",
              "      <td>0.0</td>\n",
              "      <td>0</td>\n",
              "    </tr>\n",
              "    <tr>\n",
              "      <th>2021-08-04</th>\n",
              "      <td>438.440002</td>\n",
              "      <td>439.950012</td>\n",
              "      <td>439.470001</td>\n",
              "      <td>439.769989</td>\n",
              "      <td>2486401</td>\n",
              "      <td>0.0</td>\n",
              "      <td>0</td>\n",
              "    </tr>\n",
              "  </tbody>\n",
              "</table>\n",
              "<p>7181 rows × 7 columns</p>\n",
              "</div>"
            ],
            "text/plain": [
              "                  Open        High  ...  Dividends  Stock Splits\n",
              "Date                                ...                         \n",
              "1993-01-29   25.818120   25.818120  ...        0.0             0\n",
              "1993-02-01   25.818125   25.983273  ...        0.0             0\n",
              "1993-02-02   25.964916   26.056665  ...        0.0             0\n",
              "1993-02-03   26.075019   26.331916  ...        0.0             0\n",
              "1993-02-04   26.405305   26.478704  ...        0.0             0\n",
              "...                ...         ...  ...        ...           ...\n",
              "2021-07-29  439.820007  441.799988  ...        0.0             0\n",
              "2021-07-30  437.910004  440.059998  ...        0.0             0\n",
              "2021-08-02  440.339996  440.929993  ...        0.0             0\n",
              "2021-08-03  438.440002  441.279999  ...        0.0             0\n",
              "2021-08-04  438.440002  439.950012  ...        0.0             0\n",
              "\n",
              "[7181 rows x 7 columns]"
            ]
          },
          "metadata": {
            "tags": []
          },
          "execution_count": 43
        }
      ]
    },
    {
      "cell_type": "code",
      "metadata": {
        "id": "a55wlLM3lYfP"
      },
      "source": [
        ""
      ],
      "execution_count": null,
      "outputs": []
    },
    {
      "cell_type": "code",
      "metadata": {
        "id": "svOZwJAVnecE"
      },
      "source": [
        ""
      ],
      "execution_count": null,
      "outputs": []
    },
    {
      "cell_type": "code",
      "metadata": {
        "colab": {
          "base_uri": "https://localhost:8080/"
        },
        "id": "TCKCdlQE2MjX",
        "outputId": "d076e901-83e1-4053-890b-11385c6b8f20"
      },
      "source": [
        "data_new = pd.DataFrame(columns =['Text','Close','Return','Label'], data=None)\n",
        "filtered_by_date = tmpData\n",
        "idx = 0\n",
        "for i in tqdm(filtered_by_date):\n",
        "  start = i\n",
        "  prev = prev_business_day(start).strftime(\"%Y-%m-%d\")\n",
        "  try:\n",
        "    prevDay = hist.loc[prev]\n",
        "    startDay = hist.loc[start]\n",
        "    close = startDay['Close']\n",
        "    prev_close = prevDay['Close']\n",
        "    log_return = np.log(close) - np.log(prev_close)\n",
        "    # label = startDay['Close'] - prevDay['Close']\n",
        "    # print(close)\n",
        "    # data_new.loc[i,'Date'] = key\n",
        "    \n",
        "\n",
        "    for txt in tmpData[i]:\n",
        "      idx += 1\n",
        "      data_new.loc[idx,'Text'] = txt\n",
        "      # data_new.loc[key,'Text'] = txt\n",
        "      # data_new.loc[i,'Label'] = label\n",
        "      data_new.loc[idx,'Close'] = close\n",
        "      data_new.loc[idx,'Return'] = log_return\n",
        "\n",
        "    # data_new.loc[i,'Close'] = close\n",
        "  except:\n",
        "    pass"
      ],
      "execution_count": 54,
      "outputs": [
        {
          "output_type": "stream",
          "text": [
            "100%|██████████| 4423/4423 [03:11<00:00, 23.09it/s]\n"
          ],
          "name": "stderr"
        }
      ]
    },
    {
      "cell_type": "code",
      "metadata": {
        "id": "O4iabkUc2MjY"
      },
      "source": [
        ""
      ],
      "execution_count": 54,
      "outputs": []
    },
    {
      "cell_type": "code",
      "metadata": {
        "id": "b9vUPjwqa4Iw"
      },
      "source": [
        ""
      ],
      "execution_count": null,
      "outputs": []
    },
    {
      "cell_type": "markdown",
      "metadata": {
        "id": "LQrYGVy8ZF78"
      },
      "source": [
        "## Two labels"
      ]
    },
    {
      "cell_type": "code",
      "metadata": {
        "id": "bYDTIzKN2MjZ"
      },
      "source": [
        "data_with_2label = data_new"
      ],
      "execution_count": 55,
      "outputs": []
    },
    {
      "cell_type": "code",
      "metadata": {
        "colab": {
          "base_uri": "https://localhost:8080/",
          "height": 417
        },
        "id": "WCoIhdKO2MjZ",
        "outputId": "c0b991c9-97eb-4216-a2bf-6ea32d18eb7b"
      },
      "source": [
        "data_with_2label"
      ],
      "execution_count": 56,
      "outputs": [
        {
          "output_type": "execute_result",
          "data": {
            "text/html": [
              "<div>\n",
              "<style scoped>\n",
              "    .dataframe tbody tr th:only-of-type {\n",
              "        vertical-align: middle;\n",
              "    }\n",
              "\n",
              "    .dataframe tbody tr th {\n",
              "        vertical-align: top;\n",
              "    }\n",
              "\n",
              "    .dataframe thead th {\n",
              "        text-align: right;\n",
              "    }\n",
              "</style>\n",
              "<table border=\"1\" class=\"dataframe\">\n",
              "  <thead>\n",
              "    <tr style=\"text-align: right;\">\n",
              "      <th></th>\n",
              "      <th>Text</th>\n",
              "      <th>Close</th>\n",
              "      <th>Return</th>\n",
              "      <th>Label</th>\n",
              "    </tr>\n",
              "  </thead>\n",
              "  <tbody>\n",
              "    <tr>\n",
              "      <th>1</th>\n",
              "      <td>German Automakers Are Charged Up and Ready to ...</td>\n",
              "      <td>371.444</td>\n",
              "      <td>0.00506791</td>\n",
              "      <td>NaN</td>\n",
              "    </tr>\n",
              "    <tr>\n",
              "      <th>2</th>\n",
              "      <td>Siblings Are Killed in I-95 Crash in Florida a...</td>\n",
              "      <td>371.444</td>\n",
              "      <td>0.00506791</td>\n",
              "      <td>NaN</td>\n",
              "    </tr>\n",
              "    <tr>\n",
              "      <th>3</th>\n",
              "      <td>Yup, People Are Going to Parties on New Year’s...</td>\n",
              "      <td>371.444</td>\n",
              "      <td>0.00506791</td>\n",
              "      <td>NaN</td>\n",
              "    </tr>\n",
              "    <tr>\n",
              "      <th>4</th>\n",
              "      <td>11 Things Our Critics Are Looking Forward to i...</td>\n",
              "      <td>371.444</td>\n",
              "      <td>0.00506791</td>\n",
              "      <td>NaN</td>\n",
              "    </tr>\n",
              "    <tr>\n",
              "      <th>5</th>\n",
              "      <td>Becky Hammon Becomes First Woman to Serve as H...</td>\n",
              "      <td>371.444</td>\n",
              "      <td>0.00506791</td>\n",
              "      <td>NaN</td>\n",
              "    </tr>\n",
              "    <tr>\n",
              "      <th>...</th>\n",
              "      <td>...</td>\n",
              "      <td>...</td>\n",
              "      <td>...</td>\n",
              "      <td>...</td>\n",
              "    </tr>\n",
              "    <tr>\n",
              "      <th>31614</th>\n",
              "      <td>Adapting Listerine to a Global Market</td>\n",
              "      <td>174.208</td>\n",
              "      <td>-0.00585831</td>\n",
              "      <td>NaN</td>\n",
              "    </tr>\n",
              "    <tr>\n",
              "      <th>31615</th>\n",
              "      <td>Letter from Israel’s Unit 8200</td>\n",
              "      <td>174.208</td>\n",
              "      <td>-0.00585831</td>\n",
              "      <td>NaN</td>\n",
              "    </tr>\n",
              "    <tr>\n",
              "      <th>31616</th>\n",
              "      <td>Prizes Without Passion</td>\n",
              "      <td>174.208</td>\n",
              "      <td>-0.00585831</td>\n",
              "      <td>NaN</td>\n",
              "    </tr>\n",
              "    <tr>\n",
              "      <th>31617</th>\n",
              "      <td>N.F.L. Rocked Again as Adrian Peterson Faces a...</td>\n",
              "      <td>174.208</td>\n",
              "      <td>-0.00585831</td>\n",
              "      <td>NaN</td>\n",
              "    </tr>\n",
              "    <tr>\n",
              "      <th>31618</th>\n",
              "      <td>A Week of Dan Barber’s Aprons</td>\n",
              "      <td>174.208</td>\n",
              "      <td>-0.00585831</td>\n",
              "      <td>NaN</td>\n",
              "    </tr>\n",
              "  </tbody>\n",
              "</table>\n",
              "<p>31618 rows × 4 columns</p>\n",
              "</div>"
            ],
            "text/plain": [
              "                                                    Text  ... Label\n",
              "1      German Automakers Are Charged Up and Ready to ...  ...   NaN\n",
              "2      Siblings Are Killed in I-95 Crash in Florida a...  ...   NaN\n",
              "3      Yup, People Are Going to Parties on New Year’s...  ...   NaN\n",
              "4      11 Things Our Critics Are Looking Forward to i...  ...   NaN\n",
              "5      Becky Hammon Becomes First Woman to Serve as H...  ...   NaN\n",
              "...                                                  ...  ...   ...\n",
              "31614              Adapting Listerine to a Global Market  ...   NaN\n",
              "31615                     Letter from Israel’s Unit 8200  ...   NaN\n",
              "31616                             Prizes Without Passion  ...   NaN\n",
              "31617  N.F.L. Rocked Again as Adrian Peterson Faces a...  ...   NaN\n",
              "31618                      A Week of Dan Barber’s Aprons  ...   NaN\n",
              "\n",
              "[31618 rows x 4 columns]"
            ]
          },
          "metadata": {
            "tags": []
          },
          "execution_count": 56
        }
      ]
    },
    {
      "cell_type": "code",
      "metadata": {
        "id": "3lSOmcob2MjZ",
        "colab": {
          "base_uri": "https://localhost:8080/"
        },
        "outputId": "ded36609-1bf8-40f3-e637-69b672faddd3"
      },
      "source": [
        "data_with_2label['Label'] = data_with_2label['Return'].map(lambda x:1 if x>=0 else 0)"
      ],
      "execution_count": 63,
      "outputs": [
        {
          "output_type": "stream",
          "text": [
            "/usr/local/lib/python3.7/dist-packages/ipykernel_launcher.py:1: SettingWithCopyWarning: \n",
            "A value is trying to be set on a copy of a slice from a DataFrame.\n",
            "Try using .loc[row_indexer,col_indexer] = value instead\n",
            "\n",
            "See the caveats in the documentation: https://pandas.pydata.org/pandas-docs/stable/user_guide/indexing.html#returning-a-view-versus-a-copy\n",
            "  \"\"\"Entry point for launching an IPython kernel.\n"
          ],
          "name": "stderr"
        }
      ]
    },
    {
      "cell_type": "code",
      "metadata": {
        "id": "94swayKU2Mja"
      },
      "source": [
        ""
      ],
      "execution_count": null,
      "outputs": []
    },
    {
      "cell_type": "code",
      "metadata": {
        "colab": {
          "base_uri": "https://localhost:8080/",
          "height": 265
        },
        "id": "qVJAAbRJ2Mja",
        "outputId": "c159c657-5ee0-4017-d6bc-f99b8dcfc83d"
      },
      "source": [
        "fig = plt.figure()\n",
        "x = data_with_2label['Label']\n",
        "ax = fig.add_subplot(111)\n",
        "numBins = 2\n",
        "ax.hist(x,numBins,color='blue')\n",
        "# plt.grid(true)#\n",
        "# plt.title(u'weight')\n",
        "plt.show()"
      ],
      "execution_count": 64,
      "outputs": [
        {
          "output_type": "display_data",
          "data": {
            "image/png": "[encoded data removed]",
            "text/plain": [
              "<Figure size 432x288 with 1 Axes>"
            ]
          },
          "metadata": {
            "tags": [],
            "needs_background": "light"
          }
        }
      ]
    },
    {
      "cell_type": "code",
      "metadata": {
        "colab": {
          "base_uri": "https://localhost:8080/",
          "height": 399
        },
        "id": "r7grIRlO2Mja",
        "outputId": "006f2087-a342-4695-a59a-d23064a11bf8"
      },
      "source": [
        "plt.boxplot(data_with_2label['Label'])"
      ],
      "execution_count": 65,
      "outputs": [
        {
          "output_type": "execute_result",
          "data": {
            "text/plain": [
              "{'boxes': [<matplotlib.lines.Line2D at 0x7f8609421b50>],\n",
              " 'caps': [<matplotlib.lines.Line2D at 0x7f8609425890>,\n",
              "  <matplotlib.lines.Line2D at 0x7f8609425dd0>],\n",
              " 'fliers': [<matplotlib.lines.Line2D at 0x7f86094148d0>],\n",
              " 'means': [],\n",
              " 'medians': [<matplotlib.lines.Line2D at 0x7f8609414390>],\n",
              " 'whiskers': [<matplotlib.lines.Line2D at 0x7f8609421590>,\n",
              "  <matplotlib.lines.Line2D at 0x7f8609425350>]}"
            ]
          },
          "metadata": {
            "tags": []
          },
          "execution_count": 65
        },
        {
          "output_type": "display_data",
          "data": {
            "image/png": "[encoded data removed]",
            "text/plain": [
              "<Figure size 432x288 with 1 Axes>"
            ]
          },
          "metadata": {
            "tags": [],
            "needs_background": "light"
          }
        }
      ]
    },
    {
      "cell_type": "code",
      "metadata": {
        "id": "kxyYg_2RneeF"
      },
      "source": [
        ""
      ],
      "execution_count": null,
      "outputs": []
    },
    {
      "cell_type": "code",
      "metadata": {
        "id": "EE5WTwhTnegc"
      },
      "source": [
        ""
      ],
      "execution_count": null,
      "outputs": []
    },
    {
      "cell_type": "markdown",
      "metadata": {
        "id": "tg1bd3uHZXaA"
      },
      "source": [
        "## Three labels"
      ]
    },
    {
      "cell_type": "code",
      "metadata": {
        "id": "XVHjld0Pnei7"
      },
      "source": [
        "data_with_3label = data_new"
      ],
      "execution_count": 57,
      "outputs": []
    },
    {
      "cell_type": "code",
      "metadata": {
        "id": "hat4497hZWGL"
      },
      "source": [
        "return_list = data_with_3label['Return']"
      ],
      "execution_count": 58,
      "outputs": []
    },
    {
      "cell_type": "code",
      "metadata": {
        "colab": {
          "base_uri": "https://localhost:8080/"
        },
        "id": "lg-oR5oxZWGL",
        "outputId": "239e40df-050f-4c8e-b440-1c671b36ab78"
      },
      "source": [
        "return_list_percentile = np.percentile(return_list, (39, 50, 62), interpolation='midpoint')\n",
        "return_list_percentile"
      ],
      "execution_count": 59,
      "outputs": [
        {
          "output_type": "execute_result",
          "data": {
            "text/plain": [
              "array([-0.0008517247410919637, 0.0005904717608444798,\n",
              "       0.0024686714059454218], dtype=object)"
            ]
          },
          "metadata": {
            "tags": []
          },
          "execution_count": 59
        }
      ]
    },
    {
      "cell_type": "code",
      "metadata": {
        "colab": {
          "base_uri": "https://localhost:8080/"
        },
        "id": "tBXhjl8uZWGL",
        "outputId": "47382e9f-f25a-499a-d938-4615c4dc2137"
      },
      "source": [
        "data_with_3label['Label'] = data_with_3label['Return'].map(lambda x:1 if x>return_list_percentile[2] else (-1 if x<return_list_percentile[0] else 0))"
      ],
      "execution_count": 60,
      "outputs": [
        {
          "output_type": "stream",
          "text": [
            "/usr/local/lib/python3.7/dist-packages/ipykernel_launcher.py:1: SettingWithCopyWarning: \n",
            "A value is trying to be set on a copy of a slice from a DataFrame.\n",
            "Try using .loc[row_indexer,col_indexer] = value instead\n",
            "\n",
            "See the caveats in the documentation: https://pandas.pydata.org/pandas-docs/stable/user_guide/indexing.html#returning-a-view-versus-a-copy\n",
            "  \"\"\"Entry point for launching an IPython kernel.\n"
          ],
          "name": "stderr"
        }
      ]
    },
    {
      "cell_type": "code",
      "metadata": {
        "id": "PudtNjcqZWGL"
      },
      "source": [
        ""
      ],
      "execution_count": null,
      "outputs": []
    },
    {
      "cell_type": "code",
      "metadata": {
        "colab": {
          "base_uri": "https://localhost:8080/",
          "height": 265
        },
        "id": "aor5GeUTZWGL",
        "outputId": "5d559919-6c2d-45ec-b1a2-482c86d43ef9"
      },
      "source": [
        "fig = plt.figure()\n",
        "x = data_with_3label['Label']\n",
        "ax = fig.add_subplot(111)\n",
        "numBins = 3\n",
        "ax.hist(x,numBins,color='blue')\n",
        "# plt.grid(true)#\n",
        "# plt.title(u'weight')\n",
        "plt.show()"
      ],
      "execution_count": 61,
      "outputs": [
        {
          "output_type": "display_data",
          "data": {
            "image/png": "[encoded data removed]",
            "text/plain": [
              "<Figure size 432x288 with 1 Axes>"
            ]
          },
          "metadata": {
            "tags": [],
            "needs_background": "light"
          }
        }
      ]
    },
    {
      "cell_type": "code",
      "metadata": {
        "colab": {
          "base_uri": "https://localhost:8080/",
          "height": 399
        },
        "id": "ERyvrbjWZWGL",
        "outputId": "61433d75-d58c-4492-cbd9-e7af880d605d"
      },
      "source": [
        "plt.boxplot(data_with_3label['Label'])"
      ],
      "execution_count": 62,
      "outputs": [
        {
          "output_type": "execute_result",
          "data": {
            "text/plain": [
              "{'boxes': [<matplotlib.lines.Line2D at 0x7f86121a2310>],\n",
              " 'caps': [<matplotlib.lines.Line2D at 0x7f86121a3350>,\n",
              "  <matplotlib.lines.Line2D at 0x7f86121a3890>],\n",
              " 'fliers': [<matplotlib.lines.Line2D at 0x7f86121a8390>],\n",
              " 'means': [],\n",
              " 'medians': [<matplotlib.lines.Line2D at 0x7f86121a3e10>],\n",
              " 'whiskers': [<matplotlib.lines.Line2D at 0x7f86121a2890>,\n",
              "  <matplotlib.lines.Line2D at 0x7f86121a2dd0>]}"
            ]
          },
          "metadata": {
            "tags": []
          },
          "execution_count": 62
        },
        {
          "output_type": "display_data",
          "data": {
            "image/png": "[encoded data removed]",
            "text/plain": [
              "<Figure size 432x288 with 1 Axes>"
            ]
          },
          "metadata": {
            "tags": [],
            "needs_background": "light"
          }
        }
      ]
    },
    {
      "cell_type": "code",
      "metadata": {
        "id": "zTW186-3SIaL"
      },
      "source": [
        ""
      ],
      "execution_count": null,
      "outputs": []
    },
    {
      "cell_type": "code",
      "metadata": {
        "id": "-br77EwjSIco",
        "colab": {
          "base_uri": "https://localhost:8080/"
        },
        "outputId": "4e77db8a-e08f-45d5-afe7-30642da7c8b2"
      },
      "source": [
        "data_with_2label.to_csv(path_or_buf=r'data_2_label.csv')\n",
        "print('data saved')"
      ],
      "execution_count": 66,
      "outputs": [
        {
          "output_type": "stream",
          "text": [
            "data saved\n"
          ],
          "name": "stdout"
        }
      ]
    },
    {
      "cell_type": "code",
      "metadata": {
        "id": "RAoZguqeSIey",
        "colab": {
          "base_uri": "https://localhost:8080/"
        },
        "outputId": "daf4a68f-0001-4604-8480-fc3cfc9d4d14"
      },
      "source": [
        "data_with_3label.to_csv(path_or_buf=r'data_3_label.csv')\n",
        "print('data saved')"
      ],
      "execution_count": 67,
      "outputs": [
        {
          "output_type": "stream",
          "text": [
            "data saved\n"
          ],
          "name": "stdout"
        }
      ]
    },
    {
      "cell_type": "code",
      "metadata": {
        "id": "eCIT2t0pSIhN"
      },
      "source": [
        ""
      ],
      "execution_count": null,
      "outputs": []
    },
    {
      "cell_type": "code",
      "metadata": {
        "id": "zhPqbZCUSIjQ"
      },
      "source": [
        ""
      ],
      "execution_count": null,
      "outputs": []
    },
    {
      "cell_type": "code",
      "metadata": {
        "id": "YdbGquL1SIlz"
      },
      "source": [
        ""
      ],
      "execution_count": null,
      "outputs": []
    },
    {
      "cell_type": "code",
      "metadata": {
        "id": "0s384tMDSIoN"
      },
      "source": [
        ""
      ],
      "execution_count": null,
      "outputs": []
    },
    {
      "cell_type": "code",
      "metadata": {
        "id": "_I5EPvprSIqY"
      },
      "source": [
        ""
      ],
      "execution_count": null,
      "outputs": []
    },
    {
      "cell_type": "code",
      "metadata": {
        "id": "6RdTIN5QSIsx"
      },
      "source": [
        ""
      ],
      "execution_count": null,
      "outputs": []
    },
    {
      "cell_type": "code",
      "metadata": {
        "id": "98fcaMJlSIvH"
      },
      "source": [
        ""
      ],
      "execution_count": null,
      "outputs": []
    },
    {
      "cell_type": "code",
      "metadata": {
        "id": "c6SGQvjQSIxc"
      },
      "source": [
        ""
      ],
      "execution_count": null,
      "outputs": []
    },
    {
      "cell_type": "code",
      "metadata": {
        "id": "_if-NuUsSIzr"
      },
      "source": [
        ""
      ],
      "execution_count": null,
      "outputs": []
    },
    {
      "cell_type": "code",
      "metadata": {
        "id": "UKEh50meSI2B"
      },
      "source": [
        ""
      ],
      "execution_count": null,
      "outputs": []
    },
    {
      "cell_type": "code",
      "metadata": {
        "id": "mVwNqYItSI4h"
      },
      "source": [
        ""
      ],
      "execution_count": null,
      "outputs": []
    },
    {
      "cell_type": "code",
      "metadata": {
        "id": "jdrpDsGySI6r"
      },
      "source": [
        ""
      ],
      "execution_count": null,
      "outputs": []
    },
    {
      "cell_type": "code",
      "metadata": {
        "id": "Q1LHwmuMSI82"
      },
      "source": [
        ""
      ],
      "execution_count": null,
      "outputs": []
    },
    {
      "cell_type": "code",
      "metadata": {
        "id": "qJzmgFiFSI_z"
      },
      "source": [
        ""
      ],
      "execution_count": null,
      "outputs": []
    },
    {
      "cell_type": "code",
      "metadata": {
        "id": "pMufn_K3SJB3"
      },
      "source": [
        ""
      ],
      "execution_count": null,
      "outputs": []
    },
    {
      "cell_type": "code",
      "metadata": {
        "id": "hbaXdpMxSJEN"
      },
      "source": [
        ""
      ],
      "execution_count": null,
      "outputs": []
    },
    {
      "cell_type": "code",
      "metadata": {
        "id": "c9yfgPmLRsrx"
      },
      "source": [
        ""
      ],
      "execution_count": null,
      "outputs": []
    },
    {
      "cell_type": "code",
      "metadata": {
        "id": "ocPVjvA3pwmO"
      },
      "source": [
        ""
      ],
      "execution_count": null,
      "outputs": []
    },
    {
      "cell_type": "code",
      "metadata": {
        "id": "9A0grhQdDSPQ"
      },
      "source": [
        ""
      ],
      "execution_count": null,
      "outputs": []
    },
    {
      "cell_type": "code",
      "metadata": {
        "colab": {
          "base_uri": "https://localhost:8080/",
          "height": 417
        },
        "id": "kAQYlTpaC0gP",
        "outputId": "2d3f1f66-6769-495e-fda0-f42162c4f0ed"
      },
      "source": [
        "data_new"
      ],
      "execution_count": null,
      "outputs": [
        {
          "output_type": "execute_result",
          "data": {
            "text/html": [
              "<div>\n",
              "<style scoped>\n",
              "    .dataframe tbody tr th:only-of-type {\n",
              "        vertical-align: middle;\n",
              "    }\n",
              "\n",
              "    .dataframe tbody tr th {\n",
              "        vertical-align: top;\n",
              "    }\n",
              "\n",
              "    .dataframe thead th {\n",
              "        text-align: right;\n",
              "    }\n",
              "</style>\n",
              "<table border=\"1\" class=\"dataframe\">\n",
              "  <thead>\n",
              "    <tr style=\"text-align: right;\">\n",
              "      <th></th>\n",
              "      <th>Text</th>\n",
              "      <th>Label</th>\n",
              "    </tr>\n",
              "  </thead>\n",
              "  <tbody>\n",
              "    <tr>\n",
              "      <th>2020-06-11</th>\n",
              "      <td>UBS Maintains Neutral on McDonald's, Raises Pr...</td>\n",
              "      <td>negative</td>\n",
              "    </tr>\n",
              "    <tr>\n",
              "      <th>2020-06-10</th>\n",
              "      <td>Hearing Vertical Group Out Positive On Amazon,...</td>\n",
              "      <td>negative</td>\n",
              "    </tr>\n",
              "    <tr>\n",
              "      <th>2020-06-09</th>\n",
              "      <td>Macy's Raises $4.5B In Funding To Navigate Pos...</td>\n",
              "      <td>positive</td>\n",
              "    </tr>\n",
              "    <tr>\n",
              "      <th>2020-06-08</th>\n",
              "      <td>NXP Semiconductors shares are trading higher a...</td>\n",
              "      <td>positive</td>\n",
              "    </tr>\n",
              "    <tr>\n",
              "      <th>2020-06-05</th>\n",
              "      <td>Shares of several airline companies are tradin...</td>\n",
              "      <td>positive</td>\n",
              "    </tr>\n",
              "    <tr>\n",
              "      <th>...</th>\n",
              "      <td>...</td>\n",
              "      <td>...</td>\n",
              "    </tr>\n",
              "    <tr>\n",
              "      <th>2008-10-10</th>\n",
              "      <td>GLOBAL MARKETS Selling frenzy persists as conf...</td>\n",
              "      <td>positive</td>\n",
              "    </tr>\n",
              "    <tr>\n",
              "      <th>2008-10-09</th>\n",
              "      <td>GLOBAL MARKETS Stocks falter  safe havens fall...</td>\n",
              "      <td>negative</td>\n",
              "    </tr>\n",
              "    <tr>\n",
              "      <th>2008-10-07</th>\n",
              "      <td>GLOBAL MARKETS U S  stocks slide  gold rises o...</td>\n",
              "      <td>negative</td>\n",
              "    </tr>\n",
              "    <tr>\n",
              "      <th>2008-10-06</th>\n",
              "      <td>GLOBAL MARKETS Credit crisis fears spark globa...</td>\n",
              "      <td>negative</td>\n",
              "    </tr>\n",
              "    <tr>\n",
              "      <th>2008-10-03</th>\n",
              "      <td>GLOBAL MARKETS U S  bailout plan passes  inves...</td>\n",
              "      <td>negative</td>\n",
              "    </tr>\n",
              "  </tbody>\n",
              "</table>\n",
              "<p>2917 rows × 2 columns</p>\n",
              "</div>"
            ],
            "text/plain": [
              "                                                         Text     Label\n",
              "2020-06-11  UBS Maintains Neutral on McDonald's, Raises Pr...  negative\n",
              "2020-06-10  Hearing Vertical Group Out Positive On Amazon,...  negative\n",
              "2020-06-09  Macy's Raises $4.5B In Funding To Navigate Pos...  positive\n",
              "2020-06-08  NXP Semiconductors shares are trading higher a...  positive\n",
              "2020-06-05  Shares of several airline companies are tradin...  positive\n",
              "...                                                       ...       ...\n",
              "2008-10-10  GLOBAL MARKETS Selling frenzy persists as conf...  positive\n",
              "2008-10-09  GLOBAL MARKETS Stocks falter  safe havens fall...  negative\n",
              "2008-10-07  GLOBAL MARKETS U S  stocks slide  gold rises o...  negative\n",
              "2008-10-06  GLOBAL MARKETS Credit crisis fears spark globa...  negative\n",
              "2008-10-03  GLOBAL MARKETS U S  bailout plan passes  inves...  negative\n",
              "\n",
              "[2917 rows x 2 columns]"
            ]
          },
          "metadata": {
            "tags": []
          },
          "execution_count": 100
        }
      ]
    },
    {
      "cell_type": "code",
      "metadata": {
        "colab": {
          "base_uri": "https://localhost:8080/"
        },
        "id": "qJ9bAkZLPkn8",
        "outputId": "7e15604e-aadf-4ea5-bce0-1544b017af57"
      },
      "source": [
        "data_new.to_csv(path_or_buf=r'yingwen_pretrained_demo.csv')\n",
        "print('data saved')"
      ],
      "execution_count": null,
      "outputs": [
        {
          "output_type": "stream",
          "text": [
            "data saved\n"
          ],
          "name": "stdout"
        }
      ]
    },
    {
      "cell_type": "code",
      "metadata": {
        "id": "RwUjEV8vC0iE"
      },
      "source": [
        "\n",
        "data_new = pd.read_csv(r'yingwen_pretrained_demo.csv')"
      ],
      "execution_count": null,
      "outputs": []
    },
    {
      "cell_type": "code",
      "metadata": {
        "colab": {
          "base_uri": "https://localhost:8080/",
          "height": 172
        },
        "id": "lShk93hNCXx6",
        "outputId": "5bd3b80c-8592-44b4-8865-ff2deb80f4b0"
      },
      "source": [
        "data_new.describe()"
      ],
      "execution_count": null,
      "outputs": [
        {
          "output_type": "execute_result",
          "data": {
            "text/html": [
              "<div>\n",
              "<style scoped>\n",
              "    .dataframe tbody tr th:only-of-type {\n",
              "        vertical-align: middle;\n",
              "    }\n",
              "\n",
              "    .dataframe tbody tr th {\n",
              "        vertical-align: top;\n",
              "    }\n",
              "\n",
              "    .dataframe thead th {\n",
              "        text-align: right;\n",
              "    }\n",
              "</style>\n",
              "<table border=\"1\" class=\"dataframe\">\n",
              "  <thead>\n",
              "    <tr style=\"text-align: right;\">\n",
              "      <th></th>\n",
              "      <th>Unnamed: 0</th>\n",
              "      <th>Text</th>\n",
              "      <th>Label</th>\n",
              "    </tr>\n",
              "  </thead>\n",
              "  <tbody>\n",
              "    <tr>\n",
              "      <th>count</th>\n",
              "      <td>2917</td>\n",
              "      <td>2917</td>\n",
              "      <td>2917</td>\n",
              "    </tr>\n",
              "    <tr>\n",
              "      <th>unique</th>\n",
              "      <td>2917</td>\n",
              "      <td>2917</td>\n",
              "      <td>3</td>\n",
              "    </tr>\n",
              "    <tr>\n",
              "      <th>top</th>\n",
              "      <td>2016-01-04</td>\n",
              "      <td>Swedish c bank seen cutting key rate 50 bps in...</td>\n",
              "      <td>positive</td>\n",
              "    </tr>\n",
              "    <tr>\n",
              "      <th>freq</th>\n",
              "      <td>1</td>\n",
              "      <td>1</td>\n",
              "      <td>1588</td>\n",
              "    </tr>\n",
              "  </tbody>\n",
              "</table>\n",
              "</div>"
            ],
            "text/plain": [
              "        Unnamed: 0                                               Text     Label\n",
              "count         2917                                               2917      2917\n",
              "unique        2917                                               2917         3\n",
              "top     2016-01-04  Swedish c bank seen cutting key rate 50 bps in...  positive\n",
              "freq             1                                                  1      1588"
            ]
          },
          "metadata": {
            "tags": []
          },
          "execution_count": 8
        }
      ]
    },
    {
      "cell_type": "code",
      "metadata": {
        "id": "82YePkk4CXzn"
      },
      "source": [
        ""
      ],
      "execution_count": null,
      "outputs": []
    },
    {
      "cell_type": "code",
      "metadata": {
        "id": "WRNIpyoXB5S7"
      },
      "source": [
        ""
      ],
      "execution_count": null,
      "outputs": []
    }
  ]
}