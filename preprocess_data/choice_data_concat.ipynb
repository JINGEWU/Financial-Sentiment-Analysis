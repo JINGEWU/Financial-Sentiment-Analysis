{
 "cells": [
  {
   "cell_type": "markdown",
   "id": "funky-surname",
   "metadata": {},
   "source": [
    "This file used for data concatenation of Chinese data from choice. <br>\n",
    "The original data is download from choice(东方财富网) website, each file has 500 samples and 202 files in total in 'original.rar'. <br>\n",
    "After running the codes, all data will be merged into one file 'choice_news.csv' and transfer the timezone from China to US 'choice_news_ustime.csv'.<br>\n",
    "If you already have the file 'choice_news_ustime.csv', then there is no need to run this code file."
   ]
  },
  {
   "cell_type": "code",
   "execution_count": 56,
   "id": "sunrise-arrest",
   "metadata": {},
   "outputs": [],
   "source": [
    "import pandas as pd \n",
    "import os\n",
    "import numpy as np \n",
    "import time, datetime"
   ]
  },
  {
   "cell_type": "code",
   "execution_count": 9,
   "id": "lonely-recall",
   "metadata": {},
   "outputs": [],
   "source": [
    "path = r'C:\\Users\\Dell\\Desktop\\FYP\\data\\choice_news' #文件夹目录\n",
    "files= os.listdir(path) "
   ]
  },
  {
   "cell_type": "code",
   "execution_count": 11,
   "id": "korean-partner",
   "metadata": {},
   "outputs": [],
   "source": [
    "data = pd.DataFrame(data = None)\n",
    "for file in files: #遍历文件夹\n",
    "    position = path+'\\\\'+ file #构造绝对路径，\"\\\\\"，其中一个'\\'为转义符\n",
    "    data_new = pd.read_excel(position,usecols=[1,2,5])[0:500]\n",
    "    data = pd.concat([data, data_new])\n",
    "# data.drop_duplicates(subset='标题', keep='first', inplace=True)"
   ]
  },
  {
   "cell_type": "code",
   "execution_count": null,
   "id": "spatial-adrian",
   "metadata": {},
   "outputs": [],
   "source": []
  },
  {
   "cell_type": "code",
   "execution_count": 3,
   "id": "paperback-standard",
   "metadata": {},
   "outputs": [],
   "source": [
    "# aa = pd.read_excel(r'C:\\Users\\Dell\\Desktop\\FYP\\data\\choice_news\\8.xls',usecols=[1,2,5])[0:500]\n",
    "# bb = pd.read_excel(r'C:\\Users\\Dell\\Desktop\\FYP\\data\\choice_news\\9.xls',usecols=[1,2,5])[0:500]\n",
    "# cc = pd.concat([aa, bb])\n",
    "\n"
   ]
  },
  {
   "cell_type": "code",
   "execution_count": 13,
   "id": "wired-study",
   "metadata": {},
   "outputs": [],
   "source": [
    "data.drop_duplicates(subset='标题', keep='first', inplace=True)"
   ]
  },
  {
   "cell_type": "code",
   "execution_count": 15,
   "id": "instrumental-gross",
   "metadata": {},
   "outputs": [
    {
     "data": {
      "text/html": [
       "<div>\n",
       "<style scoped>\n",
       "    .dataframe tbody tr th:only-of-type {\n",
       "        vertical-align: middle;\n",
       "    }\n",
       "\n",
       "    .dataframe tbody tr th {\n",
       "        vertical-align: top;\n",
       "    }\n",
       "\n",
       "    .dataframe thead th {\n",
       "        text-align: right;\n",
       "    }\n",
       "</style>\n",
       "<table border=\"1\" class=\"dataframe\">\n",
       "  <thead>\n",
       "    <tr style=\"text-align: right;\">\n",
       "      <th></th>\n",
       "      <th>时间</th>\n",
       "      <th>标题</th>\n",
       "      <th>网址</th>\n",
       "    </tr>\n",
       "  </thead>\n",
       "  <tbody>\n",
       "    <tr>\n",
       "      <th>262</th>\n",
       "      <td>2016-01-01</td>\n",
       "      <td>商务部放弃外贸增长目标 　2016年外贸“维稳”第一</td>\n",
       "      <td>http://finance.eastmoney.com/news/1350,2016010...</td>\n",
       "    </tr>\n",
       "    <tr>\n",
       "      <th>409</th>\n",
       "      <td>2016-01-01</td>\n",
       "      <td>A股春季行情敏感窗口开启 　新年万亿解禁潮突袭</td>\n",
       "      <td>http://finance.eastmoney.com/news/1353,2016010...</td>\n",
       "    </tr>\n",
       "    <tr>\n",
       "      <th>406</th>\n",
       "      <td>2016-01-01</td>\n",
       "      <td>迷雾中的汉能：李河君0.5折卖股是抛售还是债务融资</td>\n",
       "      <td>http://finance.eastmoney.com/news/1345,2016010...</td>\n",
       "    </tr>\n",
       "    <tr>\n",
       "      <th>405</th>\n",
       "      <td>2016-01-01</td>\n",
       "      <td>34家公司豪爽高送转 　高送转概念股引资金垂青</td>\n",
       "      <td>http://finance.eastmoney.com/news/1344,2016010...</td>\n",
       "    </tr>\n",
       "    <tr>\n",
       "      <th>403</th>\n",
       "      <td>2016-01-01</td>\n",
       "      <td>沪股通净流出4.5亿 　成交前十合计遭净卖出3.8亿</td>\n",
       "      <td>http://finance.eastmoney.com/news/1353,2016010...</td>\n",
       "    </tr>\n",
       "    <tr>\n",
       "      <th>...</th>\n",
       "      <td>...</td>\n",
       "      <td>...</td>\n",
       "      <td>...</td>\n",
       "    </tr>\n",
       "    <tr>\n",
       "      <th>82</th>\n",
       "      <td>2021-01-01</td>\n",
       "      <td>隔夜外盘：纳指全年涨逾43% 　金价创10年来最佳年度表现</td>\n",
       "      <td>http://hk.eastmoney.com/news/11329,20210101175...</td>\n",
       "    </tr>\n",
       "    <tr>\n",
       "      <th>83</th>\n",
       "      <td>2021-01-01</td>\n",
       "      <td>美股集体收高道指年涨7.25% 　蔚来全年大涨超1100%</td>\n",
       "      <td>http://forex.eastmoney.com/news/1129,202101011...</td>\n",
       "    </tr>\n",
       "    <tr>\n",
       "      <th>85</th>\n",
       "      <td>2021-01-01</td>\n",
       "      <td>2020年美股收官：三大指数齐收涨 　纳指累涨43.64%</td>\n",
       "      <td>http://finance.eastmoney.com/news/1828,2020123...</td>\n",
       "    </tr>\n",
       "    <tr>\n",
       "      <th>0</th>\n",
       "      <td>2021-01-01</td>\n",
       "      <td>接任欧盟轮值主席国 　葡萄牙担子不轻</td>\n",
       "      <td>http://finance.eastmoney.com/news/1351,2021010...</td>\n",
       "    </tr>\n",
       "    <tr>\n",
       "      <th>263</th>\n",
       "      <td>NaN</td>\n",
       "      <td>NaN</td>\n",
       "      <td>NaN</td>\n",
       "    </tr>\n",
       "  </tbody>\n",
       "</table>\n",
       "<p>92275 rows × 3 columns</p>\n",
       "</div>"
      ],
      "text/plain": [
       "             时间                             标题  \\\n",
       "262  2016-01-01     商务部放弃外贸增长目标 　2016年外贸“维稳”第一   \n",
       "409  2016-01-01        A股春季行情敏感窗口开启 　新年万亿解禁潮突袭   \n",
       "406  2016-01-01      迷雾中的汉能：李河君0.5折卖股是抛售还是债务融资   \n",
       "405  2016-01-01        34家公司豪爽高送转 　高送转概念股引资金垂青   \n",
       "403  2016-01-01     沪股通净流出4.5亿 　成交前十合计遭净卖出3.8亿   \n",
       "..          ...                            ...   \n",
       "82   2021-01-01  隔夜外盘：纳指全年涨逾43% 　金价创10年来最佳年度表现   \n",
       "83   2021-01-01  美股集体收高道指年涨7.25% 　蔚来全年大涨超1100%   \n",
       "85   2021-01-01  2020年美股收官：三大指数齐收涨 　纳指累涨43.64%   \n",
       "0    2021-01-01             接任欧盟轮值主席国 　葡萄牙担子不轻   \n",
       "263         NaN                            NaN   \n",
       "\n",
       "                                                    网址  \n",
       "262  http://finance.eastmoney.com/news/1350,2016010...  \n",
       "409  http://finance.eastmoney.com/news/1353,2016010...  \n",
       "406  http://finance.eastmoney.com/news/1345,2016010...  \n",
       "405  http://finance.eastmoney.com/news/1344,2016010...  \n",
       "403  http://finance.eastmoney.com/news/1353,2016010...  \n",
       "..                                                 ...  \n",
       "82   http://hk.eastmoney.com/news/11329,20210101175...  \n",
       "83   http://forex.eastmoney.com/news/1129,202101011...  \n",
       "85   http://finance.eastmoney.com/news/1828,2020123...  \n",
       "0    http://finance.eastmoney.com/news/1351,2021010...  \n",
       "263                                                NaN  \n",
       "\n",
       "[92275 rows x 3 columns]"
      ]
     },
     "execution_count": 15,
     "metadata": {},
     "output_type": "execute_result"
    }
   ],
   "source": [
    "data.sort_values(by = '时间') "
   ]
  },
  {
   "cell_type": "code",
   "execution_count": 16,
   "id": "infrared-simpson",
   "metadata": {},
   "outputs": [
    {
     "name": "stdout",
     "output_type": "stream",
     "text": [
      "data saved\n"
     ]
    }
   ],
   "source": [
    "data.to_csv(path_or_buf=r'C:\\Users\\Dell\\Desktop\\choice_news.csv')\n",
    "print('data saved')"
   ]
  },
  {
   "cell_type": "code",
   "execution_count": 61,
   "id": "handy-engineering",
   "metadata": {},
   "outputs": [],
   "source": [
    "data2 = pd.read_csv(r'C:\\Users\\Dell\\Desktop\\choice_news.csv',usecols  = [1,2])\n",
    "data2.dropna(inplace = True)\n",
    "data2.rename(columns={'时间':'date','标题':'title'}, inplace=True) "
   ]
  },
  {
   "cell_type": "code",
   "execution_count": 62,
   "id": "incorporate-growth",
   "metadata": {},
   "outputs": [
    {
     "data": {
      "text/html": [
       "<div>\n",
       "<style scoped>\n",
       "    .dataframe tbody tr th:only-of-type {\n",
       "        vertical-align: middle;\n",
       "    }\n",
       "\n",
       "    .dataframe tbody tr th {\n",
       "        vertical-align: top;\n",
       "    }\n",
       "\n",
       "    .dataframe thead th {\n",
       "        text-align: right;\n",
       "    }\n",
       "</style>\n",
       "<table border=\"1\" class=\"dataframe\">\n",
       "  <thead>\n",
       "    <tr style=\"text-align: right;\">\n",
       "      <th></th>\n",
       "      <th>date</th>\n",
       "      <th>title</th>\n",
       "    </tr>\n",
       "  </thead>\n",
       "  <tbody>\n",
       "    <tr>\n",
       "      <th>0</th>\n",
       "      <td>2021-01-01</td>\n",
       "      <td>接任欧盟轮值主席国 　葡萄牙担子不轻</td>\n",
       "    </tr>\n",
       "    <tr>\n",
       "      <th>1</th>\n",
       "      <td>2021-01-01</td>\n",
       "      <td>亚马逊在华一审败诉 　被判不得使用AWS名称并赔偿7646万元</td>\n",
       "    </tr>\n",
       "    <tr>\n",
       "      <th>2</th>\n",
       "      <td>2021-01-01</td>\n",
       "      <td>俄罗斯通过“土耳其溪”管道向塞尔维亚和波黑供天然气</td>\n",
       "    </tr>\n",
       "    <tr>\n",
       "      <th>3</th>\n",
       "      <td>2021-01-01</td>\n",
       "      <td>2020年全球宏观经济速览：遭遇疫情剧烈冲击后温和复苏</td>\n",
       "    </tr>\n",
       "    <tr>\n",
       "      <th>4</th>\n",
       "      <td>2021-01-01</td>\n",
       "      <td>特斯拉Model 　Y长续航版降价超14万：下调至33.99万</td>\n",
       "    </tr>\n",
       "    <tr>\n",
       "      <th>...</th>\n",
       "      <td>...</td>\n",
       "      <td>...</td>\n",
       "    </tr>\n",
       "    <tr>\n",
       "      <th>92270</th>\n",
       "      <td>2018-12-18</td>\n",
       "      <td>强生(JNJ.US)CEO回应爽身粉事件：坚信其产品及滑石粉原料不含石棉</td>\n",
       "    </tr>\n",
       "    <tr>\n",
       "      <th>92271</th>\n",
       "      <td>2018-12-18</td>\n",
       "      <td>裁员潮来势汹汹！又一家车企巨头撑不住了 　明年至多裁员5000人</td>\n",
       "    </tr>\n",
       "    <tr>\n",
       "      <th>92272</th>\n",
       "      <td>2018-12-18</td>\n",
       "      <td>苹果拒绝执行“禁售令” 　专家称已违法</td>\n",
       "    </tr>\n",
       "    <tr>\n",
       "      <th>92273</th>\n",
       "      <td>2018-12-18</td>\n",
       "      <td>中国连续5个月减持美债</td>\n",
       "    </tr>\n",
       "    <tr>\n",
       "      <th>92274</th>\n",
       "      <td>2018-12-18</td>\n",
       "      <td>日韩股市双双低开 　日经225指数跌1.1%</td>\n",
       "    </tr>\n",
       "  </tbody>\n",
       "</table>\n",
       "<p>92274 rows × 2 columns</p>\n",
       "</div>"
      ],
      "text/plain": [
       "             date                                 title\n",
       "0      2021-01-01                    接任欧盟轮值主席国 　葡萄牙担子不轻\n",
       "1      2021-01-01       亚马逊在华一审败诉 　被判不得使用AWS名称并赔偿7646万元\n",
       "2      2021-01-01             俄罗斯通过“土耳其溪”管道向塞尔维亚和波黑供天然气\n",
       "3      2021-01-01           2020年全球宏观经济速览：遭遇疫情剧烈冲击后温和复苏\n",
       "4      2021-01-01       特斯拉Model 　Y长续航版降价超14万：下调至33.99万\n",
       "...           ...                                   ...\n",
       "92270  2018-12-18  强生(JNJ.US)CEO回应爽身粉事件：坚信其产品及滑石粉原料不含石棉\n",
       "92271  2018-12-18      裁员潮来势汹汹！又一家车企巨头撑不住了 　明年至多裁员5000人\n",
       "92272  2018-12-18                   苹果拒绝执行“禁售令” 　专家称已违法\n",
       "92273  2018-12-18                           中国连续5个月减持美债\n",
       "92274  2018-12-18                日韩股市双双低开 　日经225指数跌1.1%\n",
       "\n",
       "[92274 rows x 2 columns]"
      ]
     },
     "execution_count": 62,
     "metadata": {},
     "output_type": "execute_result"
    }
   ],
   "source": [
    "data2"
   ]
  },
  {
   "cell_type": "code",
   "execution_count": 30,
   "id": "literary-anaheim",
   "metadata": {},
   "outputs": [],
   "source": [
    "# data2.reset_index(drop=True, inplace=True)\n",
    "\n",
    "# data2.drop(inplace=True, columns=['category', 'content', 'provider', 'url', 'article_id'], axis=1)"
   ]
  },
  {
   "cell_type": "code",
   "execution_count": 32,
   "id": "purple-assembly",
   "metadata": {},
   "outputs": [],
   "source": [
    "# data2"
   ]
  },
  {
   "cell_type": "code",
   "execution_count": 63,
   "id": "crucial-telescope",
   "metadata": {},
   "outputs": [],
   "source": [
    "ff = data2"
   ]
  },
  {
   "cell_type": "code",
   "execution_count": 70,
   "id": "simplified-reach",
   "metadata": {},
   "outputs": [],
   "source": [
    "ff['date']= pd.to_datetime(pd.to_datetime(ff.date,origin='unix'\n",
    "                                      ).apply(lambda x: x.strftime(\"%Y-%m-%d\")))"
   ]
  },
  {
   "cell_type": "code",
   "execution_count": 71,
   "id": "apparent-mistake",
   "metadata": {},
   "outputs": [
    {
     "data": {
      "text/html": [
       "<div>\n",
       "<style scoped>\n",
       "    .dataframe tbody tr th:only-of-type {\n",
       "        vertical-align: middle;\n",
       "    }\n",
       "\n",
       "    .dataframe tbody tr th {\n",
       "        vertical-align: top;\n",
       "    }\n",
       "\n",
       "    .dataframe thead th {\n",
       "        text-align: right;\n",
       "    }\n",
       "</style>\n",
       "<table border=\"1\" class=\"dataframe\">\n",
       "  <thead>\n",
       "    <tr style=\"text-align: right;\">\n",
       "      <th></th>\n",
       "      <th>date</th>\n",
       "      <th>title</th>\n",
       "    </tr>\n",
       "  </thead>\n",
       "  <tbody>\n",
       "    <tr>\n",
       "      <th>0</th>\n",
       "      <td>2021-01-01</td>\n",
       "      <td>接任欧盟轮值主席国 　葡萄牙担子不轻</td>\n",
       "    </tr>\n",
       "    <tr>\n",
       "      <th>1</th>\n",
       "      <td>2021-01-01</td>\n",
       "      <td>亚马逊在华一审败诉 　被判不得使用AWS名称并赔偿7646万元</td>\n",
       "    </tr>\n",
       "    <tr>\n",
       "      <th>2</th>\n",
       "      <td>2021-01-01</td>\n",
       "      <td>俄罗斯通过“土耳其溪”管道向塞尔维亚和波黑供天然气</td>\n",
       "    </tr>\n",
       "    <tr>\n",
       "      <th>3</th>\n",
       "      <td>2021-01-01</td>\n",
       "      <td>2020年全球宏观经济速览：遭遇疫情剧烈冲击后温和复苏</td>\n",
       "    </tr>\n",
       "    <tr>\n",
       "      <th>4</th>\n",
       "      <td>2021-01-01</td>\n",
       "      <td>特斯拉Model 　Y长续航版降价超14万：下调至33.99万</td>\n",
       "    </tr>\n",
       "    <tr>\n",
       "      <th>...</th>\n",
       "      <td>...</td>\n",
       "      <td>...</td>\n",
       "    </tr>\n",
       "    <tr>\n",
       "      <th>92270</th>\n",
       "      <td>2018-12-18</td>\n",
       "      <td>强生(JNJ.US)CEO回应爽身粉事件：坚信其产品及滑石粉原料不含石棉</td>\n",
       "    </tr>\n",
       "    <tr>\n",
       "      <th>92271</th>\n",
       "      <td>2018-12-18</td>\n",
       "      <td>裁员潮来势汹汹！又一家车企巨头撑不住了 　明年至多裁员5000人</td>\n",
       "    </tr>\n",
       "    <tr>\n",
       "      <th>92272</th>\n",
       "      <td>2018-12-18</td>\n",
       "      <td>苹果拒绝执行“禁售令” 　专家称已违法</td>\n",
       "    </tr>\n",
       "    <tr>\n",
       "      <th>92273</th>\n",
       "      <td>2018-12-18</td>\n",
       "      <td>中国连续5个月减持美债</td>\n",
       "    </tr>\n",
       "    <tr>\n",
       "      <th>92274</th>\n",
       "      <td>2018-12-18</td>\n",
       "      <td>日韩股市双双低开 　日经225指数跌1.1%</td>\n",
       "    </tr>\n",
       "  </tbody>\n",
       "</table>\n",
       "<p>92274 rows × 2 columns</p>\n",
       "</div>"
      ],
      "text/plain": [
       "            date                                 title\n",
       "0     2021-01-01                    接任欧盟轮值主席国 　葡萄牙担子不轻\n",
       "1     2021-01-01       亚马逊在华一审败诉 　被判不得使用AWS名称并赔偿7646万元\n",
       "2     2021-01-01             俄罗斯通过“土耳其溪”管道向塞尔维亚和波黑供天然气\n",
       "3     2021-01-01           2020年全球宏观经济速览：遭遇疫情剧烈冲击后温和复苏\n",
       "4     2021-01-01       特斯拉Model 　Y长续航版降价超14万：下调至33.99万\n",
       "...          ...                                   ...\n",
       "92270 2018-12-18  强生(JNJ.US)CEO回应爽身粉事件：坚信其产品及滑石粉原料不含石棉\n",
       "92271 2018-12-18      裁员潮来势汹汹！又一家车企巨头撑不住了 　明年至多裁员5000人\n",
       "92272 2018-12-18                   苹果拒绝执行“禁售令” 　专家称已违法\n",
       "92273 2018-12-18                           中国连续5个月减持美债\n",
       "92274 2018-12-18                日韩股市双双低开 　日经225指数跌1.1%\n",
       "\n",
       "[92274 rows x 2 columns]"
      ]
     },
     "execution_count": 71,
     "metadata": {},
     "output_type": "execute_result"
    }
   ],
   "source": [
    "ff"
   ]
  },
  {
   "cell_type": "code",
   "execution_count": 72,
   "id": "occasional-gauge",
   "metadata": {},
   "outputs": [],
   "source": [
    "ff['ch_date']= ff.date.dt.tz_localize('Asia/Shanghai')\n",
    "#creating new column with time zone set to US/Pacific \n",
    "ff['us_date']=ff.ch_date.dt.tz_convert('America/New_York').apply(lambda x: x.strftime(\"%Y-%m-%d\"))\n",
    "# ff['date'] = ff.date_time.dt.tz_convert('America/New_York') "
   ]
  },
  {
   "cell_type": "code",
   "execution_count": 74,
   "id": "several-worth",
   "metadata": {},
   "outputs": [],
   "source": [
    "ff.sort_values(by='us_date', inplace=True)"
   ]
  },
  {
   "cell_type": "code",
   "execution_count": 78,
   "id": "round-edwards",
   "metadata": {},
   "outputs": [],
   "source": [
    "us_time_data = ff[['us_date','title']]\n"
   ]
  },
  {
   "cell_type": "code",
   "execution_count": 79,
   "id": "hungry-savannah",
   "metadata": {},
   "outputs": [
    {
     "name": "stdout",
     "output_type": "stream",
     "text": [
      "data saved\n"
     ]
    }
   ],
   "source": [
    "us_time_data.to_csv(path_or_buf=r'C:\\Users\\Dell\\Desktop\\choice_news_ustime.csv',index = False)\n",
    "print('data saved')  "
   ]
  },
  {
   "cell_type": "code",
   "execution_count": null,
   "id": "aware-laugh",
   "metadata": {},
   "outputs": [],
   "source": []
  }
 ],
 "metadata": {
  "kernelspec": {
   "display_name": "Python 3",
   "language": "python",
   "name": "python3"
  },
  "language_info": {
   "codemirror_mode": {
    "name": "ipython",
    "version": 3
   },
   "file_extension": ".py",
   "mimetype": "text/x-python",
   "name": "python",
   "nbconvert_exporter": "python",
   "pygments_lexer": "ipython3",
   "version": "3.8.8"
  },
  "toc": {
   "base_numbering": 1,
   "nav_menu": {},
   "number_sections": true,
   "sideBar": true,
   "skip_h1_title": false,
   "title_cell": "Table of Contents",
   "title_sidebar": "Contents",
   "toc_cell": false,
   "toc_position": {},
   "toc_section_display": true,
   "toc_window_display": false
  },
  "varInspector": {
   "cols": {
    "lenName": 16,
    "lenType": 16,
    "lenVar": 40
   },
   "kernels_config": {
    "python": {
     "delete_cmd_postfix": "",
     "delete_cmd_prefix": "del ",
     "library": "var_list.py",
     "varRefreshCmd": "print(var_dic_list())"
    },
    "r": {
     "delete_cmd_postfix": ") ",
     "delete_cmd_prefix": "rm(",
     "library": "var_list.r",
     "varRefreshCmd": "cat(var_dic_list()) "
    }
   },
   "types_to_exclude": [
    "module",
    "function",
    "builtin_function_or_method",
    "instance",
    "_Feature"
   ],
   "window_display": false
  }
 },
 "nbformat": 4,
 "nbformat_minor": 5
}
