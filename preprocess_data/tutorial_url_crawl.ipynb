{
 "cells": [
  {
   "cell_type": "markdown",
   "id": "appointed-farming",
   "metadata": {},
   "source": [
    "This is a tutorial about data crawling from yahoo finance https://news.yahoo.com/"
   ]
  },
  {
   "cell_type": "code",
   "execution_count": 68,
   "id": "arabic-maldives",
   "metadata": {},
   "outputs": [],
   "source": [
    "import requests\n",
    "from bs4 import BeautifulSoup\n",
    "from datetime import datetime\n",
    "import datetime\n",
    "import time"
   ]
  },
  {
   "cell_type": "code",
   "execution_count": 69,
   "id": "english-occasion",
   "metadata": {},
   "outputs": [],
   "source": [
    "def get_info(url):\n",
    "    #send request   \n",
    "    response = requests.get(url)\n",
    "    #parse    \n",
    "    soup = BeautifulSoup(response.text)\n",
    "    #get information we need\n",
    "    news = soup.find('div', attrs={'class': 'caas-body'}).text\n",
    "    headline = soup.find('h1').text \n",
    "    date = datetime.strptime(soup.find('time').text, \"%B %d, %Y, %H:%M %p\").strftime(\"%Y-%m-%d %H:%M:%S\")\n",
    "    return news, headline, date"
   ]
  },
  {
   "cell_type": "code",
   "execution_count": 64,
   "id": "extra-reverse",
   "metadata": {},
   "outputs": [
    {
     "data": {
      "text/plain": [
       "('WASHINGTON (AP) — Disappointed Democrats headed Wednesday toward renewing their control of the House for two more years but with a potentially shrunken majority as they lost at least seven incumbents without ousting a single Republican lawmaker.By Wednesday afternoon, Democrats\\' only gains were two North Carolina seats vacated by GOP incumbents after a court-ordered remapping made the districts more Democratic. Although their majority seemed secure, the results were an unexpected jolt for a party that had envisioned gains of perhaps 15 seats. They were a morale booster for Republicans, who going into Election Day were mostly bracing for losses.“They were all wrong,\" House Minority Leader Kevin McCarthy, R-Calif., told reporters about Democrats\\' assumptions of adding to their House numbers. Repeating a campaign theme Republicans used repeatedly against Democrats, he said, “The rejection that we saw last night from the Democrats, was that America does not want to be a socialist nation.″McCarthy also touted his party\\'s modest additions to its small cadre of female and minority lawmakers. “The Republican coalition is bigger, more diverse and more energetic than ever before,\" he said.In perhaps their highest profile triumph, Republicans finally defeated 15-term Rep. Collin Peterson from a rural Minnesota district that backed President Donald Trump in 2016 by 31 percentage points, Trump\\'s biggest margin in any Democratic-held district. Peterson, who chairs the House Agriculture Committee, is one of the House\\'s most conservative Democrats but was defeated by Republican Michelle Fischbach, the former lieutenant governor.The latest Democratic incumbent to fall was freshman Rep. Abby Finkenauer of northeastern Iowa, who lost to GOP state Rep. Ashley Hinson.The other defeated Democrats — all freshmen — included Reps. Debbie Mucarsel-Powell and Donna Shalala, health secretary under President Bill Clinton, in adjacent South Florida districts.Story continuesJoe Cunningham of South Carolina, Xochitl Torres Small of New Mexico and Kendra Horn in Oklahoma also lost. All had won surprising 2018 victories in districts Trump carried decisively in 2016.The fight for Torres Small\\'s seat cost around $35 million, making it one of the country\\'s most expensive races, according to the nonpartisan Center for Responsive Politics. She was defeated by Yvette Herrell, a former state legislator.Before votes were counted, both parties’ operatives said the GOP would be fortunate to limit Democratic gains to modest single digits. Democrats control the House 232-197, with five open seats and one independent. It takes 218 seats to control the chamber.Democrats were also disappointed in the Senate, where they nursed fading hopes of winning the majority. Trump\\'s challenge from Democrat Joe Biden remained too early to call.A smaller Democratic majority would make it tougher for House Speaker Nancy Pelosi, D-Calif., to unite her lawmakers as a handful of progressive freshmen arrive for the new Congress.By retaining House control, Democrats would mark only the second time in a quarter century that they\\'ve led the chamber for two consecutive two-year Congresses. The first period ran from 2007 through 2010, when Pelosi was serving her first four years as speaker.“Our purpose in this race was to win so that we could protect the Affordable Care Act and so that we could crush the virus,” Pelosi told reporters, citing former President Barack Obama’s health care act. She declared that Democrats had won the House majority, which seemed highly likely but hadn’t been officially determined by The Associated Press.Democrats’ hopes of protecting their majority and even expanding it were based on public anxiety over the pandemic, Trump’s alienation of suburban voters, and a vast fundraising edge. But those advantages didn\\'t carry them as far as they\\'d hoped.Democrats\\' setbacks were measured not just by seats they lost but by districts they failed to capture.Democrats lost a majority Hispanic district in West Texas they expected to win after the GOP incumbent retired. And they lost a series of what seemed coin-flip races, failing to defeat GOP incumbents in Cincinnati, rural Illinois, central Virginia and the suburbs of St. Louis and several districts in Texas.In a district between Austin and San Antonio, freshman GOP Rep. Chip Roy withstood a challenge from Democrat Wendy Davis. Davis gained fame as a state legislator by waging a 2013 filibuster against an anti-abortion bill, then lost a race for governor the following year. The conservative Club for Growth made her its biggest target, spending over $6 million against her this year.As if symbolically, Illinois Rep. Cheri Bustos, who leads the Democratic Congressional Campaign Committee, was in her own tight race in a closely divided district she won by 24 percentage points in 2018.Democrats also notched no victories in long-shot races they’d hoped would bolster their majority. Republicans retained such seats in central North Carolina; Montana; Omaha, Nebraska; and around Little Rock, Arkansas.Some endangered Democratic freshmen like Texas\\' Lizzie Fletcher, Georgia\\'s Lucy McBath and New Jersey\\'s Tom Malinowski and Andy Kim held on. And as Wednesday progressed, other hotly fought races remained undecided in Indiana and Virginia.Democratic Rep. Alexandria Ocasio-Cortez of New York and the three other members of the so-called squad of young progressive women of color were easily reelected. A small handful of new progressives will be coming to Washington including Democrats Jamaal Bowman and Mondaire Jones of New York, but others like Nebraska Democrat Kara Eastman lost their races.Jones will be Congress\\' first openly gay black lawmaker, while another newcomer from New York, Democrat Ritchie Torres, will be its first openly gay Hispanic.Marjorie Taylor Greene, who has espoused unfounded QAnon conspiracy theories, won a vacant seat in northwest Georgia. Trump has called Greene a “future Republican star.” QAnon asserts that Trump is quietly waging a battle against pedophiles in government.Republican Lauren Boebert, a guns-rights activist and bar owner from western Colorado, won an open GOP seat there.Hanging over the contests were the coronavirus pandemic and the wounded economy, which voters ranked as top concerns, according to AP VoteCast, a national survey of the electorate. The virus has killed 232,000 people in the U.S. and cases are rising in nearly every state, while millions have lost jobs.Democrats thought Trump’s repeated false statements downplaying the virus’ severity would redouble the impact of their long-time focus on health care.Buoying Democrats was a coast-to-coast edge in campaign fundraising. That allowed nearly all Democratic incumbents in potentially vulnerable districts to outspend their GOP challengers, often by vast margins, according to an AP analysis of Federal Election Commission campaign reports.AP VoteCast is a nationwide survey of more than 127,000 voters and nonvoters conducted for The Associated Press by NORC at the University of Chicago.___Find AP’s full election coverage at APNews.com/Election2020.',\n",
       " 'Dems head toward House control, but GOP picks off seats',\n",
       " '2020-11-04 05:01:00')"
      ]
     },
     "execution_count": 64,
     "metadata": {},
     "output_type": "execute_result"
    }
   ],
   "source": [
    "url = \"https://news.yahoo.com/dems-head-toward-house-control-160107166.html\"\n",
    "get_info(url)"
   ]
  },
  {
   "cell_type": "code",
   "execution_count": 78,
   "id": "pleased-present",
   "metadata": {},
   "outputs": [],
   "source": [
    "url = \"https://finance.yahoo.com/topic/stock-market-news\"\n",
    "response = requests.get(url)\n",
    "soup = BeautifulSoup(response.text,\"html.parser\")\n",
    "links = [l.find('a')['href'] for l in soup.find_all('li') if l.find('a')]"
   ]
  },
  {
   "cell_type": "code",
   "execution_count": 82,
   "id": "fitted-wayne",
   "metadata": {},
   "outputs": [
    {
     "data": {
      "text/plain": [
       "'/news/quality-stocks-havent-been-this-cheap-in-more-than-20-years-184255120.html'"
      ]
     },
     "execution_count": 82,
     "metadata": {},
     "output_type": "execute_result"
    }
   ],
   "source": [
    "'https://finance.yahoo.com'+soup.select('#Fin-Stream > ul > li:nth-child(1) a')[0]['href']"
   ]
  },
  {
   "cell_type": "code",
   "execution_count": 83,
   "id": "systematic-language",
   "metadata": {},
   "outputs": [],
   "source": [
    "links = ['https://finance.yahoo.com'+soup.select('#Fin-Stream > ul > li:nth-child({}) a'.format(i))[0]['href'] for i in range(1,4)]"
   ]
  },
  {
   "cell_type": "code",
   "execution_count": 84,
   "id": "satisfactory-elizabeth",
   "metadata": {},
   "outputs": [
    {
     "data": {
      "text/plain": [
       "['https://finance.yahoo.com/news/quality-stocks-havent-been-this-cheap-in-more-than-20-years-184255120.html',\n",
       " 'https://finance.yahoo.com/m/910ec7b3-ffaa-38cd-ac3b-e1324266e8aa/upwork-ibd-stock-of-the-day-.html',\n",
       " 'https://finance.yahoo.com/m/c8e0872c-6e99-370c-881e-766a9b1b5fef/roku-stock-option-trade-has.html']"
      ]
     },
     "execution_count": 84,
     "metadata": {},
     "output_type": "execute_result"
    }
   ],
   "source": [
    "links"
   ]
  },
  {
   "cell_type": "code",
   "execution_count": 75,
   "id": "architectural-czech",
   "metadata": {},
   "outputs": [],
   "source": [
    "def get_info(url):\n",
    "    #grab the information\n",
    "    response = requests.get(url)\n",
    "    soup = BeautifulSoup(response.text)\n",
    "    news = soup.find('div', attrs={'class': 'caas-body'}).text\n",
    "    headline = soup.find('h1').text \n",
    "    date = datetime.strptime(soup.find('time').text, \"%B %d, %Y, %H:%M %p\").strftime(\"%Y-%m-%d %H:%M:%S\")\n",
    "    #combine all info into a list of columns\n",
    "    columns = [news, headline,date]\n",
    "    #give columns names\n",
    "    column_names = ['News','Headline','Date']\n",
    "    return dict(zip(column_names, columns))"
   ]
  },
  {
   "cell_type": "code",
   "execution_count": 86,
   "id": "corresponding-system",
   "metadata": {},
   "outputs": [],
   "source": [
    "# url = \"https://finance.yahoo.com/topic/stock-market-news\"\n",
    "info = [get_info(url) for url in links]"
   ]
  },
  {
   "cell_type": "code",
   "execution_count": 87,
   "id": "ahead-light",
   "metadata": {},
   "outputs": [
    {
     "data": {
      "text/html": [
       "<div>\n",
       "<style scoped>\n",
       "    .dataframe tbody tr th:only-of-type {\n",
       "        vertical-align: middle;\n",
       "    }\n",
       "\n",
       "    .dataframe tbody tr th {\n",
       "        vertical-align: top;\n",
       "    }\n",
       "\n",
       "    .dataframe thead th {\n",
       "        text-align: right;\n",
       "    }\n",
       "</style>\n",
       "<table border=\"1\" class=\"dataframe\">\n",
       "  <thead>\n",
       "    <tr style=\"text-align: right;\">\n",
       "      <th></th>\n",
       "      <th>News</th>\n",
       "      <th>Headline</th>\n",
       "      <th>Date</th>\n",
       "    </tr>\n",
       "  </thead>\n",
       "  <tbody>\n",
       "    <tr>\n",
       "      <th>0</th>\n",
       "      <td>Quality is on sale in the stock market. Higher...</td>\n",
       "      <td>Quality stocks haven't been this cheap in more...</td>\n",
       "      <td>2021-06-22 08:42:00</td>\n",
       "    </tr>\n",
       "    <tr>\n",
       "      <th>1</th>\n",
       "      <td>Upwork is the IBD Stock Of The Day, a company ...</td>\n",
       "      <td>Upwork, IBD Stock Of The Day, Rides Wave Of Ev...</td>\n",
       "      <td>2021-06-22 07:40:00</td>\n",
       "    </tr>\n",
       "    <tr>\n",
       "      <th>2</th>\n",
       "      <td>A bull put spread on Roku stock could have a 4...</td>\n",
       "      <td>Roku Stock Option Trade Has Potential 47% Retu...</td>\n",
       "      <td>2021-06-22 07:24:00</td>\n",
       "    </tr>\n",
       "  </tbody>\n",
       "</table>\n",
       "</div>"
      ],
      "text/plain": [
       "                                                News  \\\n",
       "0  Quality is on sale in the stock market. Higher...   \n",
       "1  Upwork is the IBD Stock Of The Day, a company ...   \n",
       "2  A bull put spread on Roku stock could have a 4...   \n",
       "\n",
       "                                            Headline                 Date  \n",
       "0  Quality stocks haven't been this cheap in more...  2021-06-22 08:42:00  \n",
       "1  Upwork, IBD Stock Of The Day, Rides Wave Of Ev...  2021-06-22 07:40:00  \n",
       "2  Roku Stock Option Trade Has Potential 47% Retu...  2021-06-22 07:24:00  "
      ]
     },
     "execution_count": 87,
     "metadata": {},
     "output_type": "execute_result"
    }
   ],
   "source": [
    "import pandas as pd\n",
    "pd.DataFrame(info)"
   ]
  }
 ],
 "metadata": {
  "kernelspec": {
   "display_name": "Python 3",
   "language": "python",
   "name": "python3"
  },
  "language_info": {
   "codemirror_mode": {
    "name": "ipython",
    "version": 3
   },
   "file_extension": ".py",
   "mimetype": "text/x-python",
   "name": "python",
   "nbconvert_exporter": "python",
   "pygments_lexer": "ipython3",
   "version": "3.8.8"
  },
  "toc": {
   "base_numbering": 1,
   "nav_menu": {},
   "number_sections": true,
   "sideBar": true,
   "skip_h1_title": false,
   "title_cell": "Table of Contents",
   "title_sidebar": "Contents",
   "toc_cell": false,
   "toc_position": {},
   "toc_section_display": true,
   "toc_window_display": false
  },
  "varInspector": {
   "cols": {
    "lenName": 16,
    "lenType": 16,
    "lenVar": 40
   },
   "kernels_config": {
    "python": {
     "delete_cmd_postfix": "",
     "delete_cmd_prefix": "del ",
     "library": "var_list.py",
     "varRefreshCmd": "print(var_dic_list())"
    },
    "r": {
     "delete_cmd_postfix": ") ",
     "delete_cmd_prefix": "rm(",
     "library": "var_list.r",
     "varRefreshCmd": "cat(var_dic_list()) "
    }
   },
   "types_to_exclude": [
    "module",
    "function",
    "builtin_function_or_method",
    "instance",
    "_Feature"
   ],
   "window_display": false
  }
 },
 "nbformat": 4,
 "nbformat_minor": 5
}
